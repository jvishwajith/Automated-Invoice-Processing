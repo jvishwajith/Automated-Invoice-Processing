{
 "cells": [
  {
   "cell_type": "markdown",
   "metadata": {},
   "source": [
    "# OCR Field Extraction Pipeline\n",
    "\n",
    "# This script processes images to extract specific fields using YOLO object detection and OCR\n",
    "\n",
    "# Requirements:\n",
    "- ultralytics\n",
    "- opencv-python\n",
    "- pytesseract \n",
    "- pandas\n",
    "- Pillow\n",
    "\n",
    "# Project Description:\n",
    "- Utilizes YOLO (You Only Look Once) for field detection\n",
    "- Implements Tesseract OCR for text extraction\n",
    "- Processes document images automatically\n",
    "- Exports results to structured CSV format\n",
    "\n",
    "# Supported Field Types:\n",
    "- Numeric Fields (AWB-No, Qty)\n",
    "- Currency Values (FOB-Value, Total-Value)\n",
    "- Text Descriptions (Goods-Description)\n",
    "- Reference Numbers (Non-GST-Invoice-No)\n"
   ]
  },
  {
   "cell_type": "code",
   "execution_count": 20,
   "metadata": {},
   "outputs": [
    {
     "name": "stdout",
     "output_type": "stream",
     "text": [
      "Requirement already satisfied: ultralytics in c:\\users\\jvish\\appdata\\local\\programs\\python\\python310\\lib\\site-packages (8.3.62)\n",
      "Requirement already satisfied: numpy>=1.23.0 in c:\\users\\jvish\\appdata\\local\\programs\\python\\python310\\lib\\site-packages (from ultralytics) (1.26.4)\n",
      "Requirement already satisfied: matplotlib>=3.3.0 in c:\\users\\jvish\\appdata\\local\\programs\\python\\python310\\lib\\site-packages (from ultralytics) (3.9.4)\n",
      "Requirement already satisfied: opencv-python>=4.6.0 in c:\\users\\jvish\\appdata\\local\\programs\\python\\python310\\lib\\site-packages (from ultralytics) (4.11.0.86)\n",
      "Requirement already satisfied: pillow>=7.1.2 in c:\\users\\jvish\\appdata\\local\\programs\\python\\python310\\lib\\site-packages (from ultralytics) (11.1.0)\n",
      "Requirement already satisfied: pyyaml>=5.3.1 in c:\\users\\jvish\\appdata\\local\\programs\\python\\python310\\lib\\site-packages (from ultralytics) (6.0.2)\n",
      "Requirement already satisfied: requests>=2.23.0 in c:\\users\\jvish\\appdata\\local\\programs\\python\\python310\\lib\\site-packages (from ultralytics) (2.32.3)\n",
      "Requirement already satisfied: scipy>=1.4.1 in c:\\users\\jvish\\appdata\\local\\programs\\python\\python310\\lib\\site-packages (from ultralytics) (1.13.1)\n",
      "Requirement already satisfied: torch>=1.8.0 in c:\\users\\jvish\\appdata\\local\\programs\\python\\python310\\lib\\site-packages (from ultralytics) (2.5.1)\n",
      "Requirement already satisfied: torchvision>=0.9.0 in c:\\users\\jvish\\appdata\\local\\programs\\python\\python310\\lib\\site-packages (from ultralytics) (0.20.1)\n",
      "Requirement already satisfied: tqdm>=4.64.0 in c:\\users\\jvish\\appdata\\local\\programs\\python\\python310\\lib\\site-packages (from ultralytics) (4.67.1)\n",
      "Requirement already satisfied: psutil in c:\\users\\jvish\\appdata\\roaming\\python\\python310\\site-packages (from ultralytics) (6.1.1)\n",
      "Requirement already satisfied: py-cpuinfo in c:\\users\\jvish\\appdata\\local\\programs\\python\\python310\\lib\\site-packages (from ultralytics) (9.0.0)\n",
      "Requirement already satisfied: pandas>=1.1.4 in c:\\users\\jvish\\appdata\\local\\programs\\python\\python310\\lib\\site-packages (from ultralytics) (2.2.3)\n",
      "Requirement already satisfied: seaborn>=0.11.0 in c:\\users\\jvish\\appdata\\local\\programs\\python\\python310\\lib\\site-packages (from ultralytics) (0.13.2)\n",
      "Requirement already satisfied: ultralytics-thop>=2.0.0 in c:\\users\\jvish\\appdata\\local\\programs\\python\\python310\\lib\\site-packages (from ultralytics) (2.0.13)\n",
      "Requirement already satisfied: contourpy>=1.0.1 in c:\\users\\jvish\\appdata\\local\\programs\\python\\python310\\lib\\site-packages (from matplotlib>=3.3.0->ultralytics) (1.3.1)\n",
      "Requirement already satisfied: cycler>=0.10 in c:\\users\\jvish\\appdata\\local\\programs\\python\\python310\\lib\\site-packages (from matplotlib>=3.3.0->ultralytics) (0.12.1)\n",
      "Requirement already satisfied: fonttools>=4.22.0 in c:\\users\\jvish\\appdata\\local\\programs\\python\\python310\\lib\\site-packages (from matplotlib>=3.3.0->ultralytics) (4.55.3)\n",
      "Requirement already satisfied: kiwisolver>=1.3.1 in c:\\users\\jvish\\appdata\\local\\programs\\python\\python310\\lib\\site-packages (from matplotlib>=3.3.0->ultralytics) (1.4.8)\n",
      "Requirement already satisfied: packaging>=20.0 in c:\\users\\jvish\\appdata\\roaming\\python\\python310\\site-packages (from matplotlib>=3.3.0->ultralytics) (24.2)\n",
      "Requirement already satisfied: pyparsing>=2.3.1 in c:\\users\\jvish\\appdata\\local\\programs\\python\\python310\\lib\\site-packages (from matplotlib>=3.3.0->ultralytics) (3.2.1)\n",
      "Requirement already satisfied: python-dateutil>=2.7 in c:\\users\\jvish\\appdata\\roaming\\python\\python310\\site-packages (from matplotlib>=3.3.0->ultralytics) (2.9.0.post0)\n",
      "Requirement already satisfied: pytz>=2020.1 in c:\\users\\jvish\\appdata\\local\\programs\\python\\python310\\lib\\site-packages (from pandas>=1.1.4->ultralytics) (2024.2)\n",
      "Requirement already satisfied: tzdata>=2022.7 in c:\\users\\jvish\\appdata\\local\\programs\\python\\python310\\lib\\site-packages (from pandas>=1.1.4->ultralytics) (2024.2)\n",
      "Requirement already satisfied: charset-normalizer<4,>=2 in c:\\users\\jvish\\appdata\\local\\programs\\python\\python310\\lib\\site-packages (from requests>=2.23.0->ultralytics) (3.4.1)\n",
      "Requirement already satisfied: idna<4,>=2.5 in c:\\users\\jvish\\appdata\\local\\programs\\python\\python310\\lib\\site-packages (from requests>=2.23.0->ultralytics) (3.10)\n",
      "Requirement already satisfied: urllib3<3,>=1.21.1 in c:\\users\\jvish\\appdata\\local\\programs\\python\\python310\\lib\\site-packages (from requests>=2.23.0->ultralytics) (2.3.0)\n",
      "Requirement already satisfied: certifi>=2017.4.17 in c:\\users\\jvish\\appdata\\local\\programs\\python\\python310\\lib\\site-packages (from requests>=2.23.0->ultralytics) (2024.12.14)\n",
      "Requirement already satisfied: filelock in c:\\users\\jvish\\appdata\\local\\programs\\python\\python310\\lib\\site-packages (from torch>=1.8.0->ultralytics) (3.16.1)\n",
      "Requirement already satisfied: typing-extensions>=4.8.0 in c:\\users\\jvish\\appdata\\roaming\\python\\python310\\site-packages (from torch>=1.8.0->ultralytics) (4.12.2)\n",
      "Requirement already satisfied: networkx in c:\\users\\jvish\\appdata\\local\\programs\\python\\python310\\lib\\site-packages (from torch>=1.8.0->ultralytics) (3.4.2)\n",
      "Requirement already satisfied: jinja2 in c:\\users\\jvish\\appdata\\local\\programs\\python\\python310\\lib\\site-packages (from torch>=1.8.0->ultralytics) (3.1.5)\n",
      "Requirement already satisfied: fsspec in c:\\users\\jvish\\appdata\\local\\programs\\python\\python310\\lib\\site-packages (from torch>=1.8.0->ultralytics) (2024.12.0)\n",
      "Requirement already satisfied: sympy==1.13.1 in c:\\users\\jvish\\appdata\\local\\programs\\python\\python310\\lib\\site-packages (from torch>=1.8.0->ultralytics) (1.13.1)\n",
      "Requirement already satisfied: mpmath<1.4,>=1.1.0 in c:\\users\\jvish\\appdata\\local\\programs\\python\\python310\\lib\\site-packages (from sympy==1.13.1->torch>=1.8.0->ultralytics) (1.3.0)\n",
      "Requirement already satisfied: colorama in c:\\users\\jvish\\appdata\\roaming\\python\\python310\\site-packages (from tqdm>=4.64.0->ultralytics) (0.4.6)\n",
      "Requirement already satisfied: six>=1.5 in c:\\users\\jvish\\appdata\\roaming\\python\\python310\\site-packages (from python-dateutil>=2.7->matplotlib>=3.3.0->ultralytics) (1.17.0)\n",
      "Requirement already satisfied: MarkupSafe>=2.0 in c:\\users\\jvish\\appdata\\local\\programs\\python\\python310\\lib\\site-packages (from jinja2->torch>=1.8.0->ultralytics) (3.0.2)\n",
      "Note: you may need to restart the kernel to use updated packages.\n",
      "Requirement already satisfied: opencv-python in c:\\users\\jvish\\appdata\\local\\programs\\python\\python310\\lib\\site-packages (4.11.0.86)\n",
      "Requirement already satisfied: numpy>=1.21.2 in c:\\users\\jvish\\appdata\\local\\programs\\python\\python310\\lib\\site-packages (from opencv-python) (1.26.4)\n",
      "Note: you may need to restart the kernel to use updated packages.\n",
      "Requirement already satisfied: pytesseract in c:\\users\\jvish\\appdata\\local\\programs\\python\\python310\\lib\\site-packages (0.3.13)\n",
      "Requirement already satisfied: packaging>=21.3 in c:\\users\\jvish\\appdata\\roaming\\python\\python310\\site-packages (from pytesseract) (24.2)\n",
      "Requirement already satisfied: Pillow>=8.0.0 in c:\\users\\jvish\\appdata\\local\\programs\\python\\python310\\lib\\site-packages (from pytesseract) (11.1.0)\n",
      "Note: you may need to restart the kernel to use updated packages.\n",
      "Requirement already satisfied: pandas in c:\\users\\jvish\\appdata\\local\\programs\\python\\python310\\lib\\site-packages (2.2.3)\n",
      "Requirement already satisfied: numpy>=1.22.4 in c:\\users\\jvish\\appdata\\local\\programs\\python\\python310\\lib\\site-packages (from pandas) (1.26.4)\n",
      "Requirement already satisfied: python-dateutil>=2.8.2 in c:\\users\\jvish\\appdata\\roaming\\python\\python310\\site-packages (from pandas) (2.9.0.post0)\n",
      "Requirement already satisfied: pytz>=2020.1 in c:\\users\\jvish\\appdata\\local\\programs\\python\\python310\\lib\\site-packages (from pandas) (2024.2)\n",
      "Requirement already satisfied: tzdata>=2022.7 in c:\\users\\jvish\\appdata\\local\\programs\\python\\python310\\lib\\site-packages (from pandas) (2024.2)\n",
      "Requirement already satisfied: six>=1.5 in c:\\users\\jvish\\appdata\\roaming\\python\\python310\\site-packages (from python-dateutil>=2.8.2->pandas) (1.17.0)\n",
      "Note: you may need to restart the kernel to use updated packages.\n",
      "Requirement already satisfied: Pillow in c:\\users\\jvish\\appdata\\local\\programs\\python\\python310\\lib\\site-packages (11.1.0)\n",
      "Note: you may need to restart the kernel to use updated packages.\n"
     ]
    }
   ],
   "source": [
    "%pip install ultralytics      \n",
    "%pip install opencv-python    \n",
    "%pip install pytesseract      \n",
    "%pip install pandas           \n",
    "%pip install Pillow          "
   ]
  },
  {
   "cell_type": "code",
   "execution_count": 21,
   "metadata": {},
   "outputs": [],
   "source": [
    "# [Cell 1] - Imports and Logging Setup\n",
    "import os\n",
    "import cv2\n",
    "import torch\n",
    "import pandas as pd\n",
    "import numpy as np\n",
    "import re\n",
    "from ultralytics import YOLO\n",
    "import logging\n",
    "from PIL import Image\n",
    "import pytesseract\n",
    "from datetime import datetime\n",
    "from pathlib import Path\n",
    "\n",
    "def setup_logging():\n",
    "    \"\"\"\n",
    "    Configure logging with detailed formatting for better debugging and monitoring\n",
    "    Returns:\n",
    "        logger: Configured logging object\n",
    "    \"\"\"\n",
    "    logging.basicConfig(\n",
    "        level=logging.INFO,\n",
    "        format='%(asctime)s - %(levelname)s - %(message)s',\n",
    "        datefmt='%Y-%m-%d %H:%M:%S'\n",
    "    )\n",
    "    return logging.getLogger('FieldExtractor')\n",
    "\n",
    "logger = setup_logging()"
   ]
  },
  {
   "cell_type": "code",
   "execution_count": 22,
   "metadata": {},
   "outputs": [],
   "source": [
    "# [Cell 2] - Text Processing Functions\n",
    "def process_numeric_field(text):\n",
    "    \"\"\"\n",
    "    Extract only numerical data from text\n",
    "    Args:\n",
    "        text (str): Raw text from OCR\n",
    "    Returns:\n",
    "        str: Extracted numerical data (only numbers, decimal points, and hyphens)\n",
    "    \"\"\"\n",
    "    try:\n",
    "        text = text.strip()\n",
    "        numbers = re.findall(r'[-\\d.]+', text)\n",
    "        result = ''.join(numbers)\n",
    "        return result\n",
    "    except Exception as e:\n",
    "        logger.error(f\"Error processing numeric field: {str(e)}\")\n",
    "        return \"\"\n",
    "\n",
    "def process_goods_description(text):\n",
    "    \"\"\"\n",
    "    Process goods description text to clean and standardize format\n",
    "    Args:\n",
    "        text (str): Raw text from OCR\n",
    "    Returns:\n",
    "        str: Cleaned text as a single line with normalized spacing\n",
    "    \"\"\"\n",
    "    try:\n",
    "        text = ' '.join(text.split())\n",
    "        return text.strip()\n",
    "    except Exception as e:\n",
    "        logger.error(f\"Error processing goods description: {str(e)}\")\n",
    "        return \"\""
   ]
  },
  {
   "cell_type": "code",
   "execution_count": 23,
   "metadata": {},
   "outputs": [],
   "source": [
    "# [Cell 3] - Field Processing Configuration\n",
    "FIELD_PROCESSORS = {\n",
    "    'AWB-No': process_numeric_field,\n",
    "    'FOB-Value-in-INR': process_numeric_field,\n",
    "    'Goods-Description': process_goods_description,\n",
    "    'Non-GST-Invoice-No': process_numeric_field,\n",
    "    'Qty': process_numeric_field,\n",
    "    'Total-Value': process_numeric_field,\n",
    "    'Unit-Value': process_numeric_field\n",
    "}"
   ]
  },
  {
   "cell_type": "code",
   "execution_count": 24,
   "metadata": {},
   "outputs": [],
   "source": [
    "# [Cell 4] - Model Loading Function\n",
    "def load_model(model_path):\n",
    "    \"\"\"\n",
    "    Load the YOLO model and configure device (GPU/CPU)\n",
    "    Args:\n",
    "        model_path (str): Path to the YOLO model weights\n",
    "    Returns:\n",
    "        YOLO: Loaded model object\n",
    "    \"\"\"\n",
    "    try:\n",
    "        logger.info(\"Loading YOLO model...\")\n",
    "        model = YOLO(model_path)\n",
    "        device = 'cuda' if torch.cuda.is_available() else 'cpu'\n",
    "        model.to(device)\n",
    "        logger.info(f\"Model loaded successfully on {device}\")\n",
    "        return model\n",
    "    except Exception as e:\n",
    "        logger.error(f\"Model loading failed: {str(e)}\")\n",
    "        raise\n"
   ]
  },
  {
   "cell_type": "code",
   "execution_count": 25,
   "metadata": {},
   "outputs": [],
   "source": [
    "# [Cell 5] - Enhanced OCR Function\n",
    "def extract_and_process_text(image, bbox, field_name):\n",
    "    \"\"\"\n",
    "    Extract and process text from image region based on field type\n",
    "    Args:\n",
    "        image (numpy.ndarray): Input image\n",
    "        bbox (tuple): Bounding box coordinates (x1, y1, x2, y2)\n",
    "        field_name (str): Name of the field being processed\n",
    "    Returns:\n",
    "        str: Processed text according to field type\n",
    "    \"\"\"\n",
    "    try:\n",
    "        x1, y1, x2, y2 = bbox\n",
    "        crop = image[y1:y2, x1:x2]\n",
    "        crop_rgb = cv2.cvtColor(crop, cv2.COLOR_BGR2RGB)\n",
    "        pil_image = Image.fromarray(crop_rgb)\n",
    "        raw_text = pytesseract.image_to_string(pil_image).strip()\n",
    "        \n",
    "        processor = FIELD_PROCESSORS.get(field_name)\n",
    "        if processor:\n",
    "            processed_text = processor(raw_text)\n",
    "            logger.debug(f\"Field: {field_name}, Raw: {raw_text}, Processed: {processed_text}\")\n",
    "            return processed_text\n",
    "        return raw_text\n",
    "    except Exception as e:\n",
    "        logger.error(f\"Text extraction failed for {field_name}: {str(e)}\")\n",
    "        return \"\""
   ]
  },
  {
   "cell_type": "code",
   "execution_count": 26,
   "metadata": {},
   "outputs": [],
   "source": [
    "# [Cell 6] - CSV Functions\n",
    "def initialize_csv(output_path, field_names):\n",
    "    \"\"\"\n",
    "    Create a new CSV file with specified headers\n",
    "    Args:\n",
    "        output_path (str): Path where CSV will be saved\n",
    "        field_names (list): List of column headers\n",
    "    Returns:\n",
    "        str: Path to created CSV file\n",
    "    \"\"\"\n",
    "    try:\n",
    "        df = pd.DataFrame(columns=field_names)\n",
    "        df.to_csv(output_path, index=False)\n",
    "        logger.info(f\"Created new CSV file at: {output_path}\")\n",
    "        return output_path\n",
    "    except Exception as e:\n",
    "        logger.error(f\"Failed to create CSV file: {str(e)}\")\n",
    "        raise\n",
    "\n",
    "def update_csv(csv_path, image_name, field_data):\n",
    "    \"\"\"\n",
    "    Update CSV with processed field data\n",
    "    Args:\n",
    "        csv_path (str): Path to CSV file\n",
    "        image_name (str): Name of processed image\n",
    "        field_data (dict): Extracted field values\n",
    "    \"\"\"\n",
    "    try:\n",
    "        df = pd.read_csv(csv_path)\n",
    "        new_row = pd.DataFrame([field_data], index=[image_name])\n",
    "        df = pd.concat([df, new_row])\n",
    "        df.to_csv(csv_path, index=False)\n",
    "        logger.info(f\"Updated CSV with data from {image_name}\")\n",
    "    except Exception as e:\n",
    "        logger.error(f\"Failed to update CSV: {str(e)}\")\n",
    "        raise"
   ]
  },
  {
   "cell_type": "code",
   "execution_count": 27,
   "metadata": {},
   "outputs": [],
   "source": [
    "# [Cell 7] - Main Processing Pipeline\n",
    "def process_images(input_dir, output_csv, model_path):\n",
    "    \"\"\"\n",
    "    Main function to process images sequentially with enhanced field processing\n",
    "    Args:\n",
    "        input_dir (str): Directory containing input images\n",
    "        output_csv (str): Path for output CSV file\n",
    "        model_path (str): Path to YOLO model weights\n",
    "    \"\"\"\n",
    "    try:\n",
    "        field_names = [\n",
    "            'AWB-No', 'FOB-Value-in-INR', 'Goods-Description',\n",
    "            'Non-GST-Invoice-No', 'Qty', 'Total-Value', 'Unit-Value'\n",
    "        ]\n",
    "        \n",
    "        initialize_csv(output_csv, field_names)\n",
    "        model = load_model(model_path)\n",
    "        \n",
    "        image_files = [f for f in os.listdir(input_dir)\n",
    "                      if f.lower().endswith(('.jpg', '.jpeg'))]\n",
    "        total_images = len(image_files)\n",
    "        \n",
    "        for idx, image_file in enumerate(image_files, 1):\n",
    "            logger.info(f\"\\nProcessing image {idx}/{total_images}: {image_file}\")\n",
    "            image_path = os.path.join(input_dir, image_file)\n",
    "            \n",
    "            image = cv2.imread(image_path)\n",
    "            if image is None:\n",
    "                logger.error(f\"Could not read image: {image_file}\")\n",
    "                continue\n",
    "                \n",
    "            results = model(image)[0]\n",
    "            field_data = {field: \"\" for field in field_names}\n",
    "            \n",
    "            for det in results.boxes.data:\n",
    "                x1, y1, x2, y2, conf, cls = det\n",
    "                if conf >= 0.25:  # Confidence threshold\n",
    "                    field_name = field_names[int(cls)]\n",
    "                    text = extract_and_process_text(\n",
    "                        image,\n",
    "                        (int(x1), int(y1), int(x2), int(y2)),\n",
    "                        field_name\n",
    "                    )\n",
    "                    field_data[field_name] = text\n",
    "                    logger.info(f\"Processed {field_name}: {text[:50]}...\")\n",
    "            \n",
    "            update_csv(output_csv, image_file, field_data)\n",
    "            logger.info(f\"Completed processing image {idx}/{total_images}\")\n",
    "            \n",
    "        logger.info(\"\\nProcessing completed successfully!\")\n",
    "        logger.info(f\"Total images processed: {total_images}\")\n",
    "        logger.info(f\"Results saved to: {output_csv}\")\n",
    "    except Exception as e:\n",
    "        logger.error(f\"Processing pipeline failed: {str(e)}\")\n",
    "        raise"
   ]
  },
  {
   "cell_type": "code",
   "execution_count": 28,
   "metadata": {},
   "outputs": [],
   "source": [
    "# [Cell 8] - Execution\n",
    "def main():\n",
    "    \"\"\"\n",
    "    Main execution function\n",
    "    Modify these paths according to your setup:\n",
    "    - MODEL_PATH: Path to your trained YOLO model weights\n",
    "    - INPUT_DIR: Directory containing images to process\n",
    "    - OUTPUT_CSV: Directory where the results CSV should be saved\n",
    "    \"\"\"\n",
    "    # Define paths - modify these according to your setup\n",
    "    MODEL_PATH = \"best.pt\"\n",
    "    INPUT_DIR = \"Images\"\n",
    "    OUTPUT_CSV = os.path.join(\"D:\\Github_Projects\\VTM_Final_Src_Code_Git_Connected\", f\"Final_Output.csv\")\n",
    "    \n",
    "    # Run processing pipeline\n",
    "    process_images(INPUT_DIR, OUTPUT_CSV, MODEL_PATH)"
   ]
  },
  {
   "cell_type": "code",
   "execution_count": 29,
   "metadata": {},
   "outputs": [
    {
     "name": "stderr",
     "output_type": "stream",
     "text": [
      "2025-01-19 12:08:04 - INFO - Created new CSV file at: D:\\Github_Projects\\VTM_Final_Src_Code_Git_Connected\\Final_Output.csv\n",
      "2025-01-19 12:08:04 - INFO - Loading YOLO model...\n",
      "2025-01-19 12:08:04 - INFO - Model loaded successfully on cpu\n",
      "2025-01-19 12:08:04 - INFO - \n",
      "Processing image 1/50: 1.jpg\n"
     ]
    },
    {
     "name": "stdout",
     "output_type": "stream",
     "text": [
      "\n",
      "0: 480x640 1 AWB-No, 1 FOB-Value-in-INR, 1 Goods-Description, 1 Non-GST-Invoice-No, 1 Qty, 1 Total-Value, 1 Unit-Value, 47.0ms\n",
      "Speed: 3.0ms preprocess, 47.0ms inference, 1.1ms postprocess per image at shape (1, 3, 480, 640)\n"
     ]
    },
    {
     "name": "stderr",
     "output_type": "stream",
     "text": [
      "2025-01-19 12:08:04 - INFO - Processed Total-Value: 83.1683.16...\n",
      "2025-01-19 12:08:04 - INFO - Processed Qty: 1.00...\n",
      "2025-01-19 12:08:04 - INFO - Processed Non-GST-Invoice-No: -2762246-136744...\n",
      "2025-01-19 12:08:04 - INFO - Processed FOB-Value-in-INR: 6835.75...\n",
      "2025-01-19 12:08:04 - INFO - Processed Unit-Value: 83.1683.16...\n",
      "2025-01-19 12:08:05 - INFO - Processed Goods-Description: Goods Description EuropeanLinenWaffleDuvetCover Se...\n",
      "2025-01-19 12:08:05 - INFO - Processed AWB-No: 3292697236...\n",
      "2025-01-19 12:08:05 - INFO - Updated CSV with data from 1.jpg\n",
      "2025-01-19 12:08:05 - INFO - Completed processing image 1/50\n",
      "2025-01-19 12:08:05 - INFO - \n",
      "Processing image 2/50: 10.jpg\n"
     ]
    },
    {
     "name": "stdout",
     "output_type": "stream",
     "text": [
      "\n",
      "0: 480x640 1 AWB-No, 1 FOB-Value-in-INR, 1 Goods-Description, 1 Non-GST-Invoice-No, 1 Qty, 1 Total-Value, 1 Unit-Value, 47.0ms\n",
      "Speed: 2.0ms preprocess, 47.0ms inference, 1.0ms postprocess per image at shape (1, 3, 480, 640)\n"
     ]
    },
    {
     "name": "stderr",
     "output_type": "stream",
     "text": [
      "2025-01-19 12:08:05 - INFO - Processed Total-Value: 83.1683.16...\n",
      "2025-01-19 12:08:05 - INFO - Processed Qty: 1.00...\n",
      "2025-01-19 12:08:05 - INFO - Processed Non-GST-Invoice-No: -2775735-138220...\n",
      "2025-01-19 12:08:05 - INFO - Processed FOB-Value-in-INR: 6835.75...\n",
      "2025-01-19 12:08:05 - INFO - Processed Unit-Value: 83.1683.16...\n",
      "2025-01-19 12:08:06 - INFO - Processed Goods-Description: Goods Description EuropeanLinenWaffleDuvetCover Se...\n",
      "2025-01-19 12:08:06 - INFO - Processed AWB-No: 1048189015...\n",
      "2025-01-19 12:08:06 - INFO - Updated CSV with data from 10.jpg\n",
      "2025-01-19 12:08:06 - INFO - Completed processing image 2/50\n",
      "2025-01-19 12:08:06 - INFO - \n",
      "Processing image 3/50: 11.jpg\n"
     ]
    },
    {
     "name": "stdout",
     "output_type": "stream",
     "text": [
      "\n",
      "0: 480x640 1 AWB-No, 1 FOB-Value-in-INR, 1 Goods-Description, 1 Non-GST-Invoice-No, 1 Qty, 1 Total-Value, 1 Unit-Value, 47.0ms\n",
      "Speed: 3.0ms preprocess, 47.0ms inference, 1.0ms postprocess per image at shape (1, 3, 480, 640)\n"
     ]
    },
    {
     "name": "stderr",
     "output_type": "stream",
     "text": [
      "2025-01-19 12:08:06 - INFO - Processed Total-Value: 69.9169.91...\n",
      "2025-01-19 12:08:06 - INFO - Processed Qty: 1.00...\n",
      "2025-01-19 12:08:06 - INFO - Processed Non-GST-Invoice-No: -2776616-138267...\n",
      "2025-01-19 12:08:06 - INFO - Processed FOB-Value-in-INR: 5746.6...\n",
      "2025-01-19 12:08:06 - INFO - Processed Unit-Value: 69.9169.91...\n",
      "2025-01-19 12:08:07 - INFO - Processed Goods-Description: Goods Description EuropeanLinenWaffleDuvetCover Fu...\n",
      "2025-01-19 12:08:07 - INFO - Processed AWB-No: 8338653116...\n",
      "2025-01-19 12:08:07 - INFO - Updated CSV with data from 11.jpg\n",
      "2025-01-19 12:08:07 - INFO - Completed processing image 3/50\n",
      "2025-01-19 12:08:07 - INFO - \n",
      "Processing image 4/50: 12.jpg\n"
     ]
    },
    {
     "name": "stdout",
     "output_type": "stream",
     "text": [
      "\n",
      "0: 480x640 1 AWB-No, 1 FOB-Value-in-INR, 1 Goods-Description, 1 Non-GST-Invoice-No, 1 Qty, 1 Total-Value, 1 Unit-Value, 102.0ms\n",
      "Speed: 3.0ms preprocess, 102.0ms inference, 0.0ms postprocess per image at shape (1, 3, 480, 640)\n"
     ]
    },
    {
     "name": "stderr",
     "output_type": "stream",
     "text": [
      "2025-01-19 12:08:07 - INFO - Processed Total-Value: 69.9169.91...\n",
      "2025-01-19 12:08:07 - INFO - Processed Qty: 1.00...\n",
      "2025-01-19 12:08:07 - INFO - Processed FOB-Value-in-INR: 5746.6...\n",
      "2025-01-19 12:08:07 - INFO - Processed Non-GST-Invoice-No: -2778022-138355...\n",
      "2025-01-19 12:08:08 - INFO - Processed Unit-Value: 69.9169.91...\n",
      "2025-01-19 12:08:08 - INFO - Processed Goods-Description: Goods Description EuropeanLinenWaffleDuvetCover Fu...\n",
      "2025-01-19 12:08:08 - INFO - Processed AWB-No: 8150810043...\n",
      "2025-01-19 12:08:08 - INFO - Updated CSV with data from 12.jpg\n",
      "2025-01-19 12:08:08 - INFO - Completed processing image 4/50\n",
      "2025-01-19 12:08:08 - INFO - \n",
      "Processing image 5/50: 13.jpg\n"
     ]
    },
    {
     "name": "stdout",
     "output_type": "stream",
     "text": [
      "\n",
      "0: 480x640 1 AWB-No, 1 FOB-Value-in-INR, 1 Goods-Description, 1 Non-GST-Invoice-No, 1 Qty, 1 Total-Value, 1 Unit-Value, 51.0ms\n",
      "Speed: 2.0ms preprocess, 51.0ms inference, 0.0ms postprocess per image at shape (1, 3, 480, 640)\n"
     ]
    },
    {
     "name": "stderr",
     "output_type": "stream",
     "text": [
      "2025-01-19 12:08:08 - INFO - Processed Total-Value: 69.9169.91...\n",
      "2025-01-19 12:08:08 - INFO - Processed Qty: 1.00...\n",
      "2025-01-19 12:08:08 - INFO - Processed Non-GST-Invoice-No: -2780943-138755...\n",
      "2025-01-19 12:08:08 - INFO - Processed FOB-Value-in-INR: 5746.6...\n",
      "2025-01-19 12:08:09 - INFO - Processed Unit-Value: 69.9169.91...\n",
      "2025-01-19 12:08:09 - INFO - Processed Goods-Description: Goods Description EuropeanLinenWaffleDuvetCover Fu...\n",
      "2025-01-19 12:08:09 - INFO - Processed AWB-No: 7079897123...\n",
      "2025-01-19 12:08:09 - INFO - Updated CSV with data from 13.jpg\n",
      "2025-01-19 12:08:09 - INFO - Completed processing image 5/50\n",
      "2025-01-19 12:08:09 - INFO - \n",
      "Processing image 6/50: 14.jpg\n"
     ]
    },
    {
     "name": "stdout",
     "output_type": "stream",
     "text": [
      "\n",
      "0: 480x640 1 AWB-No, 1 FOB-Value-in-INR, 1 Goods-Description, 1 Non-GST-Invoice-No, 1 Qty, 1 Total-Value, 1 Unit-Value, 60.0ms\n",
      "Speed: 2.0ms preprocess, 60.0ms inference, 1.0ms postprocess per image at shape (1, 3, 480, 640)\n"
     ]
    },
    {
     "name": "stderr",
     "output_type": "stream",
     "text": [
      "2025-01-19 12:08:09 - INFO - Processed Total-Value: 83.1683.16...\n",
      "2025-01-19 12:08:09 - INFO - Processed Qty: 1.00...\n",
      "2025-01-19 12:08:09 - INFO - Processed Non-GST-Invoice-No: -2784568-138892...\n",
      "2025-01-19 12:08:09 - INFO - Processed FOB-Value-in-INR: 6835.75...\n",
      "2025-01-19 12:08:10 - INFO - Processed Unit-Value: 83.1683.16...\n",
      "2025-01-19 12:08:10 - INFO - Processed Goods-Description: Goods Description EuropeanLinenWaffleDuvetCover Se...\n",
      "2025-01-19 12:08:10 - INFO - Processed AWB-No: 5952839281...\n",
      "2025-01-19 12:08:10 - INFO - Updated CSV with data from 14.jpg\n",
      "2025-01-19 12:08:10 - INFO - Completed processing image 6/50\n",
      "2025-01-19 12:08:10 - INFO - \n",
      "Processing image 7/50: 15.jpg\n"
     ]
    },
    {
     "name": "stdout",
     "output_type": "stream",
     "text": [
      "\n",
      "0: 480x640 1 AWB-No, 1 FOB-Value-in-INR, 1 Goods-Description, 1 Non-GST-Invoice-No, 1 Qty, 1 Total-Value, 1 Unit-Value, 52.0ms\n",
      "Speed: 3.0ms preprocess, 52.0ms inference, 0.0ms postprocess per image at shape (1, 3, 480, 640)\n"
     ]
    },
    {
     "name": "stderr",
     "output_type": "stream",
     "text": [
      "2025-01-19 12:08:10 - INFO - Processed Total-Value: 105.44105.44...\n",
      "2025-01-19 12:08:10 - INFO - Processed Unit-Value: 105.44105.44...\n",
      "2025-01-19 12:08:10 - INFO - Processed Qty: 1.00...\n",
      "2025-01-19 12:08:11 - INFO - Processed Non-GST-Invoice-No: -2785808-138977...\n",
      "2025-01-19 12:08:11 - INFO - Processed FOB-Value-in-INR: 8667.17...\n",
      "2025-01-19 12:08:11 - INFO - Processed Goods-Description: Goods Description EuropeanLinenWaffleDuvetCover Se...\n",
      "2025-01-19 12:08:11 - INFO - Processed AWB-No: 5496830091...\n",
      "2025-01-19 12:08:11 - INFO - Updated CSV with data from 15.jpg\n",
      "2025-01-19 12:08:11 - INFO - Completed processing image 7/50\n",
      "2025-01-19 12:08:11 - INFO - \n",
      "Processing image 8/50: 16.jpg\n"
     ]
    },
    {
     "name": "stdout",
     "output_type": "stream",
     "text": [
      "\n",
      "0: 480x640 1 AWB-No, 1 FOB-Value-in-INR, 1 Goods-Description, 1 Non-GST-Invoice-No, 1 Qty, 1 Total-Value, 1 Unit-Value, 49.0ms\n",
      "Speed: 1.0ms preprocess, 49.0ms inference, 1.0ms postprocess per image at shape (1, 3, 480, 640)\n"
     ]
    },
    {
     "name": "stderr",
     "output_type": "stream",
     "text": [
      "2025-01-19 12:08:11 - INFO - Processed Total-Value: 105.44105.44...\n",
      "2025-01-19 12:08:11 - INFO - Processed Unit-Value: 105.44105.44...\n",
      "2025-01-19 12:08:11 - INFO - Processed Qty: 1.00...\n",
      "2025-01-19 12:08:12 - INFO - Processed Non-GST-Invoice-No: -2791868-139287...\n",
      "2025-01-19 12:08:12 - INFO - Processed FOB-Value-in-INR: 8667.17...\n",
      "2025-01-19 12:08:12 - INFO - Processed Goods-Description: Goods Description EuropeanLinenWaffleDuvetCover Se...\n",
      "2025-01-19 12:08:12 - INFO - Processed AWB-No: 6850753302...\n",
      "2025-01-19 12:08:12 - INFO - Updated CSV with data from 16.jpg\n",
      "2025-01-19 12:08:12 - INFO - Completed processing image 8/50\n",
      "2025-01-19 12:08:12 - INFO - \n",
      "Processing image 9/50: 17.jpg\n"
     ]
    },
    {
     "name": "stdout",
     "output_type": "stream",
     "text": [
      "\n",
      "0: 480x640 1 AWB-No, 1 FOB-Value-in-INR, 1 Goods-Description, 1 Non-GST-Invoice-No, 1 Qty, 1 Total-Value, 1 Unit-Value, 47.0ms\n",
      "Speed: 2.0ms preprocess, 47.0ms inference, 1.0ms postprocess per image at shape (1, 3, 480, 640)\n"
     ]
    },
    {
     "name": "stderr",
     "output_type": "stream",
     "text": [
      "2025-01-19 12:08:12 - INFO - Processed Total-Value: 88.6088.60...\n",
      "2025-01-19 12:08:12 - INFO - Processed Qty: 1.00...\n",
      "2025-01-19 12:08:12 - INFO - Processed Non-GST-Invoice-No: -2793660-139364...\n",
      "2025-01-19 12:08:13 - INFO - Processed Unit-Value: 88.6088.60...\n",
      "2025-01-19 12:08:13 - INFO - Processed FOB-Value-in-INR: 7282.92...\n",
      "2025-01-19 12:08:13 - INFO - Processed Goods-Description: Goods Description EuropeanLinenWaffleDuvetCover Ki...\n",
      "2025-01-19 12:08:13 - INFO - Processed AWB-No: 7393127722...\n",
      "2025-01-19 12:08:13 - INFO - Updated CSV with data from 17.jpg\n",
      "2025-01-19 12:08:13 - INFO - Completed processing image 9/50\n",
      "2025-01-19 12:08:13 - INFO - \n",
      "Processing image 10/50: 18.jpg\n"
     ]
    },
    {
     "name": "stdout",
     "output_type": "stream",
     "text": [
      "\n",
      "0: 480x640 1 AWB-No, 1 FOB-Value-in-INR, 1 Goods-Description, 1 Non-GST-Invoice-No, 1 Qty, 1 Total-Value, 1 Unit-Value, 50.0ms\n",
      "Speed: 2.0ms preprocess, 50.0ms inference, 0.0ms postprocess per image at shape (1, 3, 480, 640)\n"
     ]
    },
    {
     "name": "stderr",
     "output_type": "stream",
     "text": [
      "2025-01-19 12:08:13 - INFO - Processed Total-Value: 88.6088.60...\n",
      "2025-01-19 12:08:13 - INFO - Processed Qty: 1.00...\n",
      "2025-01-19 12:08:13 - INFO - Processed Non-GST-Invoice-No: -2793660-139364...\n",
      "2025-01-19 12:08:14 - INFO - Processed Unit-Value: 88.6088.60...\n",
      "2025-01-19 12:08:14 - INFO - Processed FOB-Value-in-INR: 7282.92...\n",
      "2025-01-19 12:08:14 - INFO - Processed Goods-Description: Goods Description EuropeanLinenWaffleDuvetCover Ki...\n",
      "2025-01-19 12:08:14 - INFO - Processed AWB-No: 7393127722...\n",
      "2025-01-19 12:08:14 - INFO - Updated CSV with data from 18.jpg\n",
      "2025-01-19 12:08:14 - INFO - Completed processing image 10/50\n",
      "2025-01-19 12:08:14 - INFO - \n",
      "Processing image 11/50: 19.jpg\n"
     ]
    },
    {
     "name": "stdout",
     "output_type": "stream",
     "text": [
      "\n",
      "0: 480x640 1 AWB-No, 1 FOB-Value-in-INR, 1 Goods-Description, 1 Non-GST-Invoice-No, 1 Qty, 1 Total-Value, 1 Unit-Value, 50.0ms\n",
      "Speed: 2.0ms preprocess, 50.0ms inference, 0.0ms postprocess per image at shape (1, 3, 480, 640)\n"
     ]
    },
    {
     "name": "stderr",
     "output_type": "stream",
     "text": [
      "2025-01-19 12:08:14 - INFO - Processed Total-Value: 88.6088.60...\n",
      "2025-01-19 12:08:14 - INFO - Processed Qty: 1.00...\n",
      "2025-01-19 12:08:14 - INFO - Processed Non-GST-Invoice-No: -2795221-139605...\n",
      "2025-01-19 12:08:15 - INFO - Processed Unit-Value: 88.6088.60...\n",
      "2025-01-19 12:08:15 - INFO - Processed FOB-Value-in-INR: 7282.92...\n",
      "2025-01-19 12:08:15 - INFO - Processed Goods-Description: Goods Description EuropeanLinenWaffleDuvetCover Ki...\n",
      "2025-01-19 12:08:15 - INFO - Processed AWB-No: 5731920725...\n",
      "2025-01-19 12:08:15 - INFO - Updated CSV with data from 19.jpg\n",
      "2025-01-19 12:08:15 - INFO - Completed processing image 11/50\n",
      "2025-01-19 12:08:15 - INFO - \n",
      "Processing image 12/50: 2.jpg\n"
     ]
    },
    {
     "name": "stdout",
     "output_type": "stream",
     "text": [
      "\n",
      "0: 480x640 1 AWB-No, 1 FOB-Value-in-INR, 1 Goods-Description, 1 Non-GST-Invoice-No, 1 Qty, 1 Total-Value, 1 Unit-Value, 48.0ms\n",
      "Speed: 2.0ms preprocess, 48.0ms inference, 0.0ms postprocess per image at shape (1, 3, 480, 640)\n"
     ]
    },
    {
     "name": "stderr",
     "output_type": "stream",
     "text": [
      "2025-01-19 12:08:15 - INFO - Processed Total-Value: 69.9169.91...\n",
      "2025-01-19 12:08:15 - INFO - Processed Non-GST-Invoice-No: -2763947-137110...\n",
      "2025-01-19 12:08:15 - INFO - Processed Qty: 1.00...\n",
      "2025-01-19 12:08:16 - INFO - Processed FOB-Value-in-INR: 5746.6...\n",
      "2025-01-19 12:08:16 - INFO - Processed Unit-Value: 69.9169.91...\n",
      "2025-01-19 12:08:16 - INFO - Processed Goods-Description: Goods Description EuropeanLinenWaffleDuvetCover Fu...\n",
      "2025-01-19 12:08:16 - INFO - Processed AWB-No: 6501476251...\n",
      "2025-01-19 12:08:16 - INFO - Updated CSV with data from 2.jpg\n",
      "2025-01-19 12:08:16 - INFO - Completed processing image 12/50\n",
      "2025-01-19 12:08:16 - INFO - \n",
      "Processing image 13/50: 20.jpg\n"
     ]
    },
    {
     "name": "stdout",
     "output_type": "stream",
     "text": [
      "\n",
      "0: 480x640 1 AWB-No, 1 FOB-Value-in-INR, 1 Goods-Description, 1 Non-GST-Invoice-No, 1 Qty, 1 Total-Value, 1 Unit-Value, 74.0ms\n",
      "Speed: 3.0ms preprocess, 74.0ms inference, 0.0ms postprocess per image at shape (1, 3, 480, 640)\n"
     ]
    },
    {
     "name": "stderr",
     "output_type": "stream",
     "text": [
      "2025-01-19 12:08:16 - INFO - Processed Total-Value: 83.1683.16...\n",
      "2025-01-19 12:08:16 - INFO - Processed Qty: 1.00...\n",
      "2025-01-19 12:08:16 - INFO - Processed Non-GST-Invoice-No: -2798484-139722...\n",
      "2025-01-19 12:08:17 - INFO - Processed FOB-Value-in-INR: 6835.75...\n",
      "2025-01-19 12:08:17 - INFO - Processed Unit-Value: 83.1683.16...\n",
      "2025-01-19 12:08:17 - INFO - Processed Goods-Description: Goods Description EuropeanLinenWaffleDuvetCover Se...\n",
      "2025-01-19 12:08:17 - INFO - Processed AWB-No: 2548360102...\n",
      "2025-01-19 12:08:17 - INFO - Updated CSV with data from 20.jpg\n",
      "2025-01-19 12:08:17 - INFO - Completed processing image 13/50\n",
      "2025-01-19 12:08:17 - INFO - \n",
      "Processing image 14/50: 21.jpg\n"
     ]
    },
    {
     "name": "stdout",
     "output_type": "stream",
     "text": [
      "\n",
      "0: 480x640 1 AWB-No, 1 FOB-Value-in-INR, 1 Goods-Description, 1 Non-GST-Invoice-No, 1 Qty, 1 Total-Value, 1 Unit-Value, 46.0ms\n",
      "Speed: 2.0ms preprocess, 46.0ms inference, 1.0ms postprocess per image at shape (1, 3, 480, 640)\n"
     ]
    },
    {
     "name": "stderr",
     "output_type": "stream",
     "text": [
      "2025-01-19 12:08:17 - INFO - Processed Total-Value: 13.2413.24...\n",
      "2025-01-19 12:08:17 - INFO - Processed Qty: 1.00...\n",
      "2025-01-19 12:08:17 - INFO - Processed Non-GST-Invoice-No: -2799496-139772...\n",
      "2025-01-19 12:08:18 - INFO - Processed Unit-Value: 13.2413.24...\n",
      "2025-01-19 12:08:18 - INFO - Processed FOB-Value-in-INR: 1088.33...\n",
      "2025-01-19 12:08:18 - INFO - Processed Goods-Description: Goods Description EuropeanLinenWaffleShamSetSta nd...\n",
      "2025-01-19 12:08:18 - INFO - Processed AWB-No: 5731982966...\n",
      "2025-01-19 12:08:18 - INFO - Updated CSV with data from 21.jpg\n",
      "2025-01-19 12:08:18 - INFO - Completed processing image 14/50\n",
      "2025-01-19 12:08:18 - INFO - \n",
      "Processing image 15/50: 22.jpg\n"
     ]
    },
    {
     "name": "stdout",
     "output_type": "stream",
     "text": [
      "\n",
      "0: 480x640 1 AWB-No, 1 FOB-Value-in-INR, 1 Goods-Description, 1 Non-GST-Invoice-No, 1 Qty, 1 Total-Value, 1 Unit-Value, 49.0ms\n",
      "Speed: 2.0ms preprocess, 49.0ms inference, 0.0ms postprocess per image at shape (1, 3, 480, 640)\n"
     ]
    },
    {
     "name": "stderr",
     "output_type": "stream",
     "text": [
      "2025-01-19 12:08:18 - INFO - Processed Total-Value: 105.44105.44...\n",
      "2025-01-19 12:08:18 - INFO - Processed Unit-Value: 105.44105.44...\n",
      "2025-01-19 12:08:18 - INFO - Processed Qty: 1.00...\n",
      "2025-01-19 12:08:19 - INFO - Processed Non-GST-Invoice-No: -2799885-139801...\n",
      "2025-01-19 12:08:19 - INFO - Processed FOB-Value-in-INR: 8667.17...\n",
      "2025-01-19 12:08:19 - INFO - Processed Goods-Description: Goods Description EuropeanLinenWaffleDuvetCover Se...\n",
      "2025-01-19 12:08:19 - INFO - Processed AWB-No: 1794560740...\n",
      "2025-01-19 12:08:19 - INFO - Updated CSV with data from 22.jpg\n",
      "2025-01-19 12:08:19 - INFO - Completed processing image 15/50\n",
      "2025-01-19 12:08:19 - INFO - \n",
      "Processing image 16/50: 23.jpg\n"
     ]
    },
    {
     "name": "stdout",
     "output_type": "stream",
     "text": [
      "\n",
      "0: 480x640 1 AWB-No, 1 FOB-Value-in-INR, 1 Goods-Description, 1 Non-GST-Invoice-No, 1 Qty, 1 Total-Value, 1 Unit-Value, 50.0ms\n",
      "Speed: 1.9ms preprocess, 50.0ms inference, 1.0ms postprocess per image at shape (1, 3, 480, 640)\n"
     ]
    },
    {
     "name": "stderr",
     "output_type": "stream",
     "text": [
      "2025-01-19 12:08:19 - INFO - Processed Total-Value: 69.9169.91...\n",
      "2025-01-19 12:08:19 - INFO - Processed Qty: 1.00...\n",
      "2025-01-19 12:08:20 - INFO - Processed Non-GST-Invoice-No: -2805214-140203...\n",
      "2025-01-19 12:08:20 - INFO - Processed FOB-Value-in-INR: 5746.6...\n",
      "2025-01-19 12:08:20 - INFO - Processed Unit-Value: 69.9169.91...\n",
      "2025-01-19 12:08:20 - INFO - Processed Goods-Description: Goods Description EuropeanLinenWaffleDuvetCover Fu...\n",
      "2025-01-19 12:08:20 - INFO - Processed AWB-No: 7181504993...\n",
      "2025-01-19 12:08:20 - INFO - Updated CSV with data from 23.jpg\n",
      "2025-01-19 12:08:20 - INFO - Completed processing image 16/50\n",
      "2025-01-19 12:08:20 - INFO - \n",
      "Processing image 17/50: 24.jpg\n"
     ]
    },
    {
     "name": "stdout",
     "output_type": "stream",
     "text": [
      "\n",
      "0: 480x640 1 AWB-No, 1 FOB-Value-in-INR, 1 Goods-Description, 1 Non-GST-Invoice-No, 1 Qty, 1 Total-Value, 1 Unit-Value, 51.0ms\n",
      "Speed: 2.0ms preprocess, 51.0ms inference, 1.0ms postprocess per image at shape (1, 3, 480, 640)\n"
     ]
    },
    {
     "name": "stderr",
     "output_type": "stream",
     "text": [
      "2025-01-19 12:08:20 - INFO - Processed Total-Value: 83.1683.16...\n",
      "2025-01-19 12:08:20 - INFO - Processed Unit-Value: 83.1683.16...\n",
      "2025-01-19 12:08:21 - INFO - Processed FOB-Value-in-INR: 6835.75...\n",
      "2025-01-19 12:08:21 - INFO - Processed Non-GST-Invoice-No: -2816324-140678...\n",
      "2025-01-19 12:08:21 - INFO - Processed Goods-Description: Goods Description EuropeanLinenWaffleDuvetCover Se...\n",
      "2025-01-19 12:08:21 - INFO - Processed Qty: 1.00...\n",
      "2025-01-19 12:08:21 - INFO - Processed AWB-No: 6066063496...\n",
      "2025-01-19 12:08:21 - INFO - Updated CSV with data from 24.jpg\n",
      "2025-01-19 12:08:21 - INFO - Completed processing image 17/50\n",
      "2025-01-19 12:08:21 - INFO - \n",
      "Processing image 18/50: 25.jpg\n"
     ]
    },
    {
     "name": "stdout",
     "output_type": "stream",
     "text": [
      "\n",
      "0: 480x640 1 AWB-No, 1 FOB-Value-in-INR, 1 Goods-Description, 1 Non-GST-Invoice-No, 1 Qty, 1 Total-Value, 1 Unit-Value, 35.0ms\n",
      "Speed: 2.0ms preprocess, 35.0ms inference, 1.0ms postprocess per image at shape (1, 3, 480, 640)\n"
     ]
    },
    {
     "name": "stderr",
     "output_type": "stream",
     "text": [
      "2025-01-19 12:08:21 - INFO - Processed Total-Value: 105.44105.44...\n",
      "2025-01-19 12:08:21 - INFO - Processed Unit-Value: 105.44105.44...\n",
      "2025-01-19 12:08:22 - INFO - Processed Qty: 1.00...\n",
      "2025-01-19 12:08:22 - INFO - Processed Non-GST-Invoice-No: -2818466-140760...\n",
      "2025-01-19 12:08:22 - INFO - Processed FOB-Value-in-INR: 8667.17...\n",
      "2025-01-19 12:08:22 - INFO - Processed Goods-Description: Goods Description EuropeanLinenWaffleDuvetCover Se...\n",
      "2025-01-19 12:08:22 - INFO - Processed AWB-No: 5547359145...\n",
      "2025-01-19 12:08:22 - INFO - Updated CSV with data from 25.jpg\n",
      "2025-01-19 12:08:22 - INFO - Completed processing image 18/50\n",
      "2025-01-19 12:08:22 - INFO - \n",
      "Processing image 19/50: 26.jpg\n"
     ]
    },
    {
     "name": "stdout",
     "output_type": "stream",
     "text": [
      "\n",
      "0: 480x640 1 AWB-No, 1 FOB-Value-in-INR, 1 Goods-Description, 1 Non-GST-Invoice-No, 1 Qty, 1 Total-Value, 1 Unit-Value, 47.0ms\n",
      "Speed: 2.0ms preprocess, 47.0ms inference, 1.0ms postprocess per image at shape (1, 3, 480, 640)\n"
     ]
    },
    {
     "name": "stderr",
     "output_type": "stream",
     "text": [
      "2025-01-19 12:08:22 - INFO - Processed Total-Value: 23.9723.97...\n",
      "2025-01-19 12:08:22 - INFO - Processed Qty: 1.00...\n",
      "2025-01-19 12:08:23 - INFO - Processed Non-GST-Invoice-No: -2814138-140610...\n",
      "2025-01-19 12:08:23 - INFO - Processed FOB-Value-in-INR: 1970.33...\n",
      "2025-01-19 12:08:23 - INFO - Processed Unit-Value: 23.9723.97...\n",
      "2025-01-19 12:08:23 - INFO - Processed Goods-Description: Goods Description OrganicAiryGauzeBlanketKingCal K...\n",
      "2025-01-19 12:08:23 - INFO - Processed AWB-No: 6066018372...\n",
      "2025-01-19 12:08:23 - INFO - Updated CSV with data from 26.jpg\n",
      "2025-01-19 12:08:23 - INFO - Completed processing image 19/50\n",
      "2025-01-19 12:08:23 - INFO - \n",
      "Processing image 20/50: 27.jpg\n"
     ]
    },
    {
     "name": "stdout",
     "output_type": "stream",
     "text": [
      "\n",
      "0: 480x640 1 AWB-No, 1 FOB-Value-in-INR, 1 Goods-Description, 1 Non-GST-Invoice-No, 1 Qty, 1 Total-Value, 1 Unit-Value, 48.0ms\n",
      "Speed: 3.0ms preprocess, 48.0ms inference, 1.0ms postprocess per image at shape (1, 3, 480, 640)\n"
     ]
    },
    {
     "name": "stderr",
     "output_type": "stream",
     "text": [
      "2025-01-19 12:08:23 - INFO - Processed Total-Value: 46.3346.33...\n",
      "2025-01-19 12:08:23 - INFO - Processed Qty: 1.00...\n",
      "2025-01-19 12:08:24 - INFO - Processed Non-GST-Invoice-No: -2814673-140625...\n",
      "2025-01-19 12:08:24 - INFO - Processed FOB-Value-in-INR: 3808.33...\n",
      "2025-01-19 12:08:24 - INFO - Processed Unit-Value: 46.3346.33...\n",
      "2025-01-19 12:08:24 - INFO - Processed Goods-Description: Goods Description OrganicAiryGauzeDuvetCoverkin gC...\n",
      "2025-01-19 12:08:24 - INFO - Processed AWB-No: 4091754181...\n",
      "2025-01-19 12:08:24 - INFO - Updated CSV with data from 27.jpg\n",
      "2025-01-19 12:08:24 - INFO - Completed processing image 20/50\n",
      "2025-01-19 12:08:24 - INFO - \n",
      "Processing image 21/50: 28.jpg\n"
     ]
    },
    {
     "name": "stdout",
     "output_type": "stream",
     "text": [
      "\n",
      "0: 480x640 1 AWB-No, 1 FOB-Value-in-INR, 1 Goods-Description, 1 Non-GST-Invoice-No, 1 Qty, 1 Total-Value, 1 Unit-Value, 46.0ms\n",
      "Speed: 2.0ms preprocess, 46.0ms inference, 1.0ms postprocess per image at shape (1, 3, 480, 640)\n"
     ]
    },
    {
     "name": "stderr",
     "output_type": "stream",
     "text": [
      "2025-01-19 12:08:24 - INFO - Processed Total-Value: 23.9723.97...\n",
      "2025-01-19 12:08:24 - INFO - Processed Qty: 1.00...\n",
      "2025-01-19 12:08:25 - INFO - Processed Non-GST-Invoice-No: -2816051-140673...\n",
      "2025-01-19 12:08:25 - INFO - Processed FOB-Value-in-INR: 1970.33...\n",
      "2025-01-19 12:08:25 - INFO - Processed Unit-Value: 23.9723.97...\n",
      "2025-01-19 12:08:25 - INFO - Processed Goods-Description: Goods Description OrganicAiryGauzeBlanketKingCal K...\n",
      "2025-01-19 12:08:25 - INFO - Processed AWB-No: 6066043933...\n",
      "2025-01-19 12:08:25 - INFO - Updated CSV with data from 28.jpg\n",
      "2025-01-19 12:08:25 - INFO - Completed processing image 21/50\n",
      "2025-01-19 12:08:25 - INFO - \n",
      "Processing image 22/50: 29.jpg\n"
     ]
    },
    {
     "name": "stdout",
     "output_type": "stream",
     "text": [
      "\n",
      "0: 480x640 1 AWB-No, 1 FOB-Value-in-INR, 1 Goods-Description, 1 Non-GST-Invoice-No, 1 Qty, 1 Total-Value, 1 Unit-Value, 47.1ms\n",
      "Speed: 2.0ms preprocess, 47.1ms inference, 0.0ms postprocess per image at shape (1, 3, 480, 640)\n"
     ]
    },
    {
     "name": "stderr",
     "output_type": "stream",
     "text": [
      "2025-01-19 12:08:25 - INFO - Processed Total-Value: 23.9723.97...\n",
      "2025-01-19 12:08:25 - INFO - Processed Qty: 1.00...\n",
      "2025-01-19 12:08:26 - INFO - Processed Non-GST-Invoice-No: -2816678-140686...\n",
      "2025-01-19 12:08:26 - INFO - Processed FOB-Value-in-INR: 1970.33...\n",
      "2025-01-19 12:08:26 - INFO - Processed Unit-Value: 23.9723.97...\n",
      "2025-01-19 12:08:26 - INFO - Processed Goods-Description: Goods Description OrganicAiryGauzeBlanketKingCal K...\n",
      "2025-01-19 12:08:26 - INFO - Processed AWB-No: 4091799084...\n",
      "2025-01-19 12:08:26 - INFO - Updated CSV with data from 29.jpg\n",
      "2025-01-19 12:08:26 - INFO - Completed processing image 22/50\n",
      "2025-01-19 12:08:26 - INFO - \n",
      "Processing image 23/50: 3.jpg\n"
     ]
    },
    {
     "name": "stdout",
     "output_type": "stream",
     "text": [
      "\n",
      "0: 480x640 1 AWB-No, 1 FOB-Value-in-INR, 1 Goods-Description, 1 Non-GST-Invoice-No, 1 Qty, 1 Total-Value, 1 Unit-Value, 49.0ms\n",
      "Speed: 2.0ms preprocess, 49.0ms inference, 1.0ms postprocess per image at shape (1, 3, 480, 640)\n"
     ]
    },
    {
     "name": "stderr",
     "output_type": "stream",
     "text": [
      "2025-01-19 12:08:26 - INFO - Processed Total-Value: 88.6088.60...\n",
      "2025-01-19 12:08:26 - INFO - Processed Qty: 1.00...\n",
      "2025-01-19 12:08:26 - INFO - Processed Non-GST-Invoice-No: -2766267-137256...\n",
      "2025-01-19 12:08:27 - INFO - Processed Unit-Value: 88.6088.60...\n",
      "2025-01-19 12:08:27 - INFO - Processed FOB-Value-in-INR: 7282.92...\n",
      "2025-01-19 12:08:27 - INFO - Processed Goods-Description: Goods Description EuropeanLinenWaffleDuvetCover Ki...\n",
      "2025-01-19 12:08:27 - INFO - Processed AWB-No: 7771955553...\n",
      "2025-01-19 12:08:27 - INFO - Updated CSV with data from 3.jpg\n",
      "2025-01-19 12:08:27 - INFO - Completed processing image 23/50\n",
      "2025-01-19 12:08:27 - INFO - \n",
      "Processing image 24/50: 30.jpg\n"
     ]
    },
    {
     "name": "stdout",
     "output_type": "stream",
     "text": [
      "\n",
      "0: 480x640 1 AWB-No, 1 FOB-Value-in-INR, 1 Goods-Description, 1 Non-GST-Invoice-No, 1 Qty, 1 Total-Value, 1 Unit-Value, 52.0ms\n",
      "Speed: 2.0ms preprocess, 52.0ms inference, 1.0ms postprocess per image at shape (1, 3, 480, 640)\n"
     ]
    },
    {
     "name": "stderr",
     "output_type": "stream",
     "text": [
      "2025-01-19 12:08:27 - INFO - Processed Total-Value: 23.9723.97...\n",
      "2025-01-19 12:08:27 - INFO - Processed Qty: 1.00...\n",
      "2025-01-19 12:08:27 - INFO - Processed Non-GST-Invoice-No: -2817638-140725...\n",
      "2025-01-19 12:08:28 - INFO - Processed FOB-Value-in-INR: 1970.33...\n",
      "2025-01-19 12:08:28 - INFO - Processed Unit-Value: 23.9723.97...\n",
      "2025-01-19 12:08:28 - INFO - Processed Goods-Description: Goods Description OrganicAiryGauzeBlanketKingCal K...\n",
      "2025-01-19 12:08:28 - INFO - Processed AWB-No: 5547349743...\n",
      "2025-01-19 12:08:28 - INFO - Updated CSV with data from 30.jpg\n",
      "2025-01-19 12:08:28 - INFO - Completed processing image 24/50\n",
      "2025-01-19 12:08:28 - INFO - \n",
      "Processing image 25/50: 31.jpg\n"
     ]
    },
    {
     "name": "stdout",
     "output_type": "stream",
     "text": [
      "\n",
      "0: 480x640 1 AWB-No, 1 FOB-Value-in-INR, 1 Goods-Description, 1 Non-GST-Invoice-No, 1 Qty, 1 Total-Value, 1 Unit-Value, 49.0ms\n",
      "Speed: 2.0ms preprocess, 49.0ms inference, 0.0ms postprocess per image at shape (1, 3, 480, 640)\n"
     ]
    },
    {
     "name": "stderr",
     "output_type": "stream",
     "text": [
      "2025-01-19 12:08:28 - INFO - Processed Total-Value: 23.9723.97...\n",
      "2025-01-19 12:08:28 - INFO - Processed Qty: 1.00...\n",
      "2025-01-19 12:08:28 - INFO - Processed Non-GST-Invoice-No: -2818773-140782...\n",
      "2025-01-19 12:08:29 - INFO - Processed FOB-Value-in-INR: 1970.33...\n",
      "2025-01-19 12:08:29 - INFO - Processed Unit-Value: 23.9723.97...\n",
      "2025-01-19 12:08:29 - INFO - Processed Goods-Description: Goods Description OrganicAiryGauzeBlanketKingCal K...\n",
      "2025-01-19 12:08:29 - INFO - Processed AWB-No: 5385474076...\n",
      "2025-01-19 12:08:29 - INFO - Updated CSV with data from 31.jpg\n",
      "2025-01-19 12:08:29 - INFO - Completed processing image 25/50\n",
      "2025-01-19 12:08:29 - INFO - \n",
      "Processing image 26/50: 32.jpg\n"
     ]
    },
    {
     "name": "stdout",
     "output_type": "stream",
     "text": [
      "\n",
      "0: 480x640 1 AWB-No, 1 FOB-Value-in-INR, 1 Goods-Description, 1 Non-GST-Invoice-No, 1 Qty, 1 Total-Value, 1 Unit-Value, 46.1ms\n",
      "Speed: 2.0ms preprocess, 46.1ms inference, 0.0ms postprocess per image at shape (1, 3, 480, 640)\n"
     ]
    },
    {
     "name": "stderr",
     "output_type": "stream",
     "text": [
      "2025-01-19 12:08:29 - INFO - Processed Total-Value: 23.9723.97...\n",
      "2025-01-19 12:08:29 - INFO - Processed Qty: 1.00...\n",
      "2025-01-19 12:08:29 - INFO - Processed Non-GST-Invoice-No: -2819270-140899...\n",
      "2025-01-19 12:08:30 - INFO - Processed FOB-Value-in-INR: 1970.33...\n",
      "2025-01-19 12:08:30 - INFO - Processed Unit-Value: 23.9723.97...\n",
      "2025-01-19 12:08:30 - INFO - Processed Goods-Description: Goods Description OrganicAiryGauzeBlanketKingCal K...\n",
      "2025-01-19 12:08:30 - INFO - Processed AWB-No: 5800862572...\n",
      "2025-01-19 12:08:30 - INFO - Updated CSV with data from 32.jpg\n",
      "2025-01-19 12:08:30 - INFO - Completed processing image 26/50\n",
      "2025-01-19 12:08:30 - INFO - \n",
      "Processing image 27/50: 33.jpg\n"
     ]
    },
    {
     "name": "stdout",
     "output_type": "stream",
     "text": [
      "\n",
      "0: 480x640 1 AWB-No, 1 FOB-Value-in-INR, 1 Goods-Description, 1 Non-GST-Invoice-No, 1 Qty, 1 Total-Value, 1 Unit-Value, 48.0ms\n",
      "Speed: 2.0ms preprocess, 48.0ms inference, 1.0ms postprocess per image at shape (1, 3, 480, 640)\n"
     ]
    },
    {
     "name": "stderr",
     "output_type": "stream",
     "text": [
      "2025-01-19 12:08:30 - INFO - Processed Total-Value: 23.9723.97...\n",
      "2025-01-19 12:08:30 - INFO - Processed Qty: 1.00...\n",
      "2025-01-19 12:08:30 - INFO - Processed Non-GST-Invoice-No: -2821810-141375...\n",
      "2025-01-19 12:08:31 - INFO - Processed FOB-Value-in-INR: 1970.33...\n",
      "2025-01-19 12:08:31 - INFO - Processed Unit-Value: 23.9723.97...\n",
      "2025-01-19 12:08:31 - INFO - Processed Goods-Description: Goods Description OrganicAiryGauzeBlanketKingCal K...\n",
      "2025-01-19 12:08:31 - INFO - Processed AWB-No: 8114073704...\n",
      "2025-01-19 12:08:31 - INFO - Updated CSV with data from 33.jpg\n",
      "2025-01-19 12:08:31 - INFO - Completed processing image 27/50\n",
      "2025-01-19 12:08:31 - INFO - \n",
      "Processing image 28/50: 34.jpg\n"
     ]
    },
    {
     "name": "stdout",
     "output_type": "stream",
     "text": [
      "\n",
      "0: 480x640 1 AWB-No, 1 FOB-Value-in-INR, 1 Goods-Description, 1 Non-GST-Invoice-No, 1 Qty, 1 Total-Value, 1 Unit-Value, 44.0ms\n",
      "Speed: 1.0ms preprocess, 44.0ms inference, 0.0ms postprocess per image at shape (1, 3, 480, 640)\n"
     ]
    },
    {
     "name": "stderr",
     "output_type": "stream",
     "text": [
      "2025-01-19 12:08:31 - INFO - Processed Total-Value: 23.9723.97...\n",
      "2025-01-19 12:08:31 - INFO - Processed Qty: 1.00...\n",
      "2025-01-19 12:08:31 - INFO - Processed Non-GST-Invoice-No: -2822403-141226...\n",
      "2025-01-19 12:08:32 - INFO - Processed FOB-Value-in-INR: 1970.33...\n",
      "2025-01-19 12:08:32 - INFO - Processed Unit-Value: 23.9723.97...\n",
      "2025-01-19 12:08:32 - INFO - Processed Goods-Description: Goods Description OrganicAiryGauzeBlanketKingCal K...\n",
      "2025-01-19 12:08:32 - INFO - Processed AWB-No: 4105030790...\n",
      "2025-01-19 12:08:32 - INFO - Updated CSV with data from 34.jpg\n",
      "2025-01-19 12:08:32 - INFO - Completed processing image 28/50\n",
      "2025-01-19 12:08:32 - INFO - \n",
      "Processing image 29/50: 35.jpg\n"
     ]
    },
    {
     "name": "stdout",
     "output_type": "stream",
     "text": [
      "\n",
      "0: 480x640 1 AWB-No, 1 FOB-Value-in-INR, 1 Goods-Description, 1 Non-GST-Invoice-No, 1 Qty, 1 Total-Value, 1 Unit-Value, 43.0ms\n",
      "Speed: 2.0ms preprocess, 43.0ms inference, 0.0ms postprocess per image at shape (1, 3, 480, 640)\n"
     ]
    },
    {
     "name": "stderr",
     "output_type": "stream",
     "text": [
      "2025-01-19 12:08:32 - INFO - Processed Total-Value: 23.9723.97...\n",
      "2025-01-19 12:08:32 - INFO - Processed Qty: 1.00...\n",
      "2025-01-19 12:08:32 - INFO - Processed Non-GST-Invoice-No: -2822828-141421...\n",
      "2025-01-19 12:08:33 - INFO - Processed FOB-Value-in-INR: 1970.33...\n",
      "2025-01-19 12:08:33 - INFO - Processed Unit-Value: 23.9723.97...\n",
      "2025-01-19 12:08:33 - INFO - Processed Goods-Description: Goods Description OrganicAiryGauzeBlanketKingCal K...\n",
      "2025-01-19 12:08:33 - INFO - Processed AWB-No: 1446759053...\n",
      "2025-01-19 12:08:33 - INFO - Updated CSV with data from 35.jpg\n",
      "2025-01-19 12:08:33 - INFO - Completed processing image 29/50\n",
      "2025-01-19 12:08:33 - INFO - \n",
      "Processing image 30/50: 36.jpg\n"
     ]
    },
    {
     "name": "stdout",
     "output_type": "stream",
     "text": [
      "\n",
      "0: 480x640 1 AWB-No, 1 FOB-Value-in-INR, 1 Goods-Description, 1 Non-GST-Invoice-No, 1 Qty, 1 Total-Value, 1 Unit-Value, 47.0ms\n",
      "Speed: 2.0ms preprocess, 47.0ms inference, 1.0ms postprocess per image at shape (1, 3, 480, 640)\n"
     ]
    },
    {
     "name": "stderr",
     "output_type": "stream",
     "text": [
      "2025-01-19 12:08:33 - INFO - Processed Total-Value: 56.4856.48...\n",
      "2025-01-19 12:08:33 - INFO - Processed Qty: 1.00...\n",
      "2025-01-19 12:08:33 - INFO - Processed Non-GST-Invoice-No: -2855586-143875...\n",
      "2025-01-19 12:08:33 - INFO - Processed FOB-Value-in-INR: 4642.66...\n",
      "2025-01-19 12:08:34 - INFO - Processed Unit-Value: 56.4856.48...\n",
      "2025-01-19 12:08:34 - INFO - Processed Goods-Description: Goods Description OrganicAiryGauzeDuvetCoverSet Ki...\n",
      "2025-01-19 12:08:34 - INFO - Processed AWB-No: 1258276622...\n",
      "2025-01-19 12:08:34 - INFO - Updated CSV with data from 36.jpg\n",
      "2025-01-19 12:08:34 - INFO - Completed processing image 30/50\n",
      "2025-01-19 12:08:34 - INFO - \n",
      "Processing image 31/50: 37.jpg\n"
     ]
    },
    {
     "name": "stdout",
     "output_type": "stream",
     "text": [
      "\n",
      "0: 480x640 1 AWB-No, 1 FOB-Value-in-INR, 1 Goods-Description, 1 Non-GST-Invoice-No, 1 Qty, 1 Total-Value, 1 Unit-Value, 42.0ms\n",
      "Speed: 2.0ms preprocess, 42.0ms inference, 1.0ms postprocess per image at shape (1, 3, 480, 640)\n"
     ]
    },
    {
     "name": "stderr",
     "output_type": "stream",
     "text": [
      "2025-01-19 12:08:34 - INFO - Processed Total-Value: 83.8683.86...\n",
      "2025-01-19 12:08:34 - INFO - Processed Qty: 1.00...\n",
      "2025-01-19 12:08:34 - INFO - Processed Non-GST-Invoice-No: -2849379-143497...\n",
      "2025-01-19 12:08:34 - INFO - Processed FOB-Value-in-INR: 6893.29...\n",
      "2025-01-19 12:08:35 - INFO - Processed Unit-Value: 83.8683.86...\n",
      "2025-01-19 12:08:35 - INFO - Processed Goods-Description: Goods Description EuropeanLinenSheetSetKingTerra c...\n",
      "2025-01-19 12:08:35 - INFO - Processed AWB-No: 1756572856...\n",
      "2025-01-19 12:08:35 - INFO - Updated CSV with data from 37.jpg\n",
      "2025-01-19 12:08:35 - INFO - Completed processing image 31/50\n",
      "2025-01-19 12:08:35 - INFO - \n",
      "Processing image 32/50: 38.jpg\n"
     ]
    },
    {
     "name": "stdout",
     "output_type": "stream",
     "text": [
      "\n",
      "0: 480x640 1 AWB-No, 1 FOB-Value-in-INR, 1 Goods-Description, 1 Non-GST-Invoice-No, 1 Qty, 1 Total-Value, 1 Unit-Value, 49.0ms\n",
      "Speed: 2.0ms preprocess, 49.0ms inference, 1.0ms postprocess per image at shape (1, 3, 480, 640)\n"
     ]
    },
    {
     "name": "stderr",
     "output_type": "stream",
     "text": [
      "2025-01-19 12:08:35 - INFO - Processed Total-Value: 109.84109.84...\n",
      "2025-01-19 12:08:35 - INFO - Processed Non-GST-Invoice-No: -2849716-143514...\n",
      "2025-01-19 12:08:35 - INFO - Processed Qty: 2.00...\n",
      "2025-01-19 12:08:36 - INFO - Processed FOB-Value-in-INR: 9028.85...\n",
      "2025-01-19 12:08:36 - INFO - Processed Unit-Value: 54.9254.92...\n",
      "2025-01-19 12:08:36 - INFO - Processed Goods-Description: Goods Description OrganicAiryGauzeQuiltSetFullQue ...\n",
      "2025-01-19 12:08:36 - INFO - Processed AWB-No: 1756583581...\n",
      "2025-01-19 12:08:36 - INFO - Updated CSV with data from 38.jpg\n",
      "2025-01-19 12:08:36 - INFO - Completed processing image 32/50\n",
      "2025-01-19 12:08:36 - INFO - \n",
      "Processing image 33/50: 39.jpg\n"
     ]
    },
    {
     "name": "stdout",
     "output_type": "stream",
     "text": [
      "\n",
      "0: 480x640 1 AWB-No, 1 FOB-Value-in-INR, 1 Goods-Description, 1 Non-GST-Invoice-No, 1 Qty, 1 Total-Value, 1 Unit-Value, 53.0ms\n",
      "Speed: 3.0ms preprocess, 53.0ms inference, 1.0ms postprocess per image at shape (1, 3, 480, 640)\n"
     ]
    },
    {
     "name": "stderr",
     "output_type": "stream",
     "text": [
      "2025-01-19 12:08:36 - INFO - Processed Total-Value: 57.0057.00...\n",
      "2025-01-19 12:08:36 - INFO - Processed Qty: 1.00...\n",
      "2025-01-19 12:08:36 - INFO - Processed Non-GST-Invoice-No: -2851198-143529...\n",
      "2025-01-19 12:08:37 - INFO - Processed FOB-Value-in-INR: 4685.4...\n",
      "2025-01-19 12:08:37 - INFO - Processed Unit-Value: 57.0057.00...\n",
      "2025-01-19 12:08:37 - INFO - Processed Goods-Description: Goods Description OrganicAiryGauzeBoxQuiltKingCa I...\n",
      "2025-01-19 12:08:37 - INFO - Processed AWB-No: 1756592530...\n",
      "2025-01-19 12:08:37 - INFO - Updated CSV with data from 39.jpg\n",
      "2025-01-19 12:08:37 - INFO - Completed processing image 33/50\n",
      "2025-01-19 12:08:37 - INFO - \n",
      "Processing image 34/50: 4.jpg\n"
     ]
    },
    {
     "name": "stdout",
     "output_type": "stream",
     "text": [
      "\n",
      "0: 480x640 1 AWB-No, 1 FOB-Value-in-INR, 1 Goods-Description, 1 Non-GST-Invoice-No, 1 Qty, 1 Total-Value, 1 Unit-Value, 45.0ms\n",
      "Speed: 2.0ms preprocess, 45.0ms inference, 0.0ms postprocess per image at shape (1, 3, 480, 640)\n"
     ]
    },
    {
     "name": "stderr",
     "output_type": "stream",
     "text": [
      "2025-01-19 12:08:37 - INFO - Processed Total-Value: 83.1683.16...\n",
      "2025-01-19 12:08:37 - INFO - Processed Qty: 1.00...\n",
      "2025-01-19 12:08:37 - INFO - Processed Non-GST-Invoice-No: -2767384-137408...\n",
      "2025-01-19 12:08:38 - INFO - Processed FOB-Value-in-INR: 6835.75...\n",
      "2025-01-19 12:08:38 - INFO - Processed Unit-Value: 83.1683.16...\n",
      "2025-01-19 12:08:38 - INFO - Processed Goods-Description: Goods Description EuropeanLinenWaffleDuvetCover Se...\n",
      "2025-01-19 12:08:38 - INFO - Processed AWB-No: 2927642034...\n",
      "2025-01-19 12:08:38 - INFO - Updated CSV with data from 4.jpg\n",
      "2025-01-19 12:08:38 - INFO - Completed processing image 34/50\n",
      "2025-01-19 12:08:38 - INFO - \n",
      "Processing image 35/50: 40.jpg\n"
     ]
    },
    {
     "name": "stdout",
     "output_type": "stream",
     "text": [
      "\n",
      "0: 480x640 1 AWB-No, 1 FOB-Value-in-INR, 1 Goods-Description, 1 Non-GST-Invoice-No, 1 Qty, 1 Total-Value, 1 Unit-Value, 45.0ms\n",
      "Speed: 1.0ms preprocess, 45.0ms inference, 0.0ms postprocess per image at shape (1, 3, 480, 640)\n"
     ]
    },
    {
     "name": "stderr",
     "output_type": "stream",
     "text": [
      "2025-01-19 12:08:38 - INFO - Processed Total-Value: 43.2143.21...\n",
      "2025-01-19 12:08:38 - INFO - Processed Qty: 1.00...\n",
      "2025-01-19 12:08:38 - INFO - Processed Non-GST-Invoice-No: -2851532-143558...\n",
      "2025-01-19 12:08:39 - INFO - Processed FOB-Value-in-INR: 3551.86...\n",
      "2025-01-19 12:08:39 - INFO - Processed Unit-Value: 43.2143.21...\n",
      "2025-01-19 12:08:39 - INFO - Processed Goods-Description: Goods Description OrganicRibbedCottonCoverletSet K...\n",
      "2025-01-19 12:08:39 - INFO - Processed AWB-No: 4126584825...\n",
      "2025-01-19 12:08:39 - INFO - Updated CSV with data from 40.jpg\n",
      "2025-01-19 12:08:39 - INFO - Completed processing image 35/50\n",
      "2025-01-19 12:08:39 - INFO - \n",
      "Processing image 36/50: 41.jpg\n"
     ]
    },
    {
     "name": "stdout",
     "output_type": "stream",
     "text": [
      "\n",
      "0: 480x640 1 AWB-No, 1 FOB-Value-in-INR, 1 Goods-Description, 1 Non-GST-Invoice-No, 1 Qty, 1 Total-Value, 1 Unit-Value, 43.1ms\n",
      "Speed: 2.0ms preprocess, 43.1ms inference, 1.0ms postprocess per image at shape (1, 3, 480, 640)\n"
     ]
    },
    {
     "name": "stderr",
     "output_type": "stream",
     "text": [
      "2025-01-19 12:08:39 - INFO - Processed Total-Value: 83.8683.86...\n",
      "2025-01-19 12:08:39 - INFO - Processed Qty: 1.00...\n",
      "2025-01-19 12:08:39 - INFO - Processed Non-GST-Invoice-No: -2852500-143683...\n",
      "2025-01-19 12:08:40 - INFO - Processed FOB-Value-in-INR: 6893.29...\n",
      "2025-01-19 12:08:40 - INFO - Processed Unit-Value: 83.8683.86...\n",
      "2025-01-19 12:08:40 - INFO - Processed Goods-Description: Goods Description EuropeanLinenSheetSetKingTerra c...\n",
      "2025-01-19 12:08:40 - INFO - Processed AWB-No: 2251370166...\n",
      "2025-01-19 12:08:40 - INFO - Updated CSV with data from 41.jpg\n",
      "2025-01-19 12:08:40 - INFO - Completed processing image 36/50\n",
      "2025-01-19 12:08:40 - INFO - \n",
      "Processing image 37/50: 42.jpg\n"
     ]
    },
    {
     "name": "stdout",
     "output_type": "stream",
     "text": [
      "\n",
      "0: 480x640 1 AWB-No, 1 FOB-Value-in-INR, 1 Goods-Description, 1 Non-GST-Invoice-No, 1 Qty, 1 Total-Value, 1 Unit-Value, 44.0ms\n",
      "Speed: 2.0ms preprocess, 44.0ms inference, 1.0ms postprocess per image at shape (1, 3, 480, 640)\n"
     ]
    },
    {
     "name": "stderr",
     "output_type": "stream",
     "text": [
      "2025-01-19 12:08:40 - INFO - Processed Total-Value: 83.8683.86...\n",
      "2025-01-19 12:08:40 - INFO - Processed Qty: 1.00...\n",
      "2025-01-19 12:08:40 - INFO - Processed Non-GST-Invoice-No: -2852688-143700...\n",
      "2025-01-19 12:08:41 - INFO - Processed FOB-Value-in-INR: 6893.29...\n",
      "2025-01-19 12:08:41 - INFO - Processed Unit-Value: 83.8683.86...\n",
      "2025-01-19 12:08:41 - INFO - Processed Goods-Description: Goods Description EuropeanLinenSheetSetKingTerra c...\n",
      "2025-01-19 12:08:41 - INFO - Processed AWB-No: 2251382523...\n",
      "2025-01-19 12:08:41 - INFO - Updated CSV with data from 42.jpg\n",
      "2025-01-19 12:08:41 - INFO - Completed processing image 37/50\n",
      "2025-01-19 12:08:41 - INFO - \n",
      "Processing image 38/50: 43.jpg\n"
     ]
    },
    {
     "name": "stdout",
     "output_type": "stream",
     "text": [
      "\n",
      "0: 480x640 1 AWB-No, 1 FOB-Value-in-INR, 1 Goods-Description, 1 Non-GST-Invoice-No, 1 Qty, 1 Total-Value, 1 Unit-Value, 46.0ms\n",
      "Speed: 2.0ms preprocess, 46.0ms inference, 0.0ms postprocess per image at shape (1, 3, 480, 640)\n"
     ]
    },
    {
     "name": "stderr",
     "output_type": "stream",
     "text": [
      "2025-01-19 12:08:41 - INFO - Processed Total-Value: 48.7548.75...\n",
      "2025-01-19 12:08:41 - INFO - Processed Qty: 1.00...\n",
      "2025-01-19 12:08:41 - INFO - Processed Non-GST-Invoice-No: -2852938-143790...\n",
      "2025-01-19 12:08:41 - INFO - Processed Unit-Value: 48.7548.75...\n",
      "2025-01-19 12:08:42 - INFO - Processed FOB-Value-in-INR: 4007.25...\n",
      "2025-01-19 12:08:42 - INFO - Processed Goods-Description: Goods Description OrganicAiryGauzeDuvetCoverSet Fu...\n",
      "2025-01-19 12:08:42 - INFO - Processed AWB-No: 1158664780...\n",
      "2025-01-19 12:08:42 - INFO - Updated CSV with data from 43.jpg\n",
      "2025-01-19 12:08:42 - INFO - Completed processing image 38/50\n",
      "2025-01-19 12:08:42 - INFO - \n",
      "Processing image 39/50: 44.jpg\n"
     ]
    },
    {
     "name": "stdout",
     "output_type": "stream",
     "text": [
      "\n",
      "0: 480x640 1 AWB-No, 1 FOB-Value-in-INR, 1 Goods-Description, 1 Non-GST-Invoice-No, 1 Qty, 1 Total-Value, 1 Unit-Value, 42.9ms\n",
      "Speed: 2.0ms preprocess, 42.9ms inference, 1.0ms postprocess per image at shape (1, 3, 480, 640)\n"
     ]
    },
    {
     "name": "stderr",
     "output_type": "stream",
     "text": [
      "2025-01-19 12:08:42 - INFO - Processed Total-Value: 54.9254.92...\n",
      "2025-01-19 12:08:42 - INFO - Processed Qty: 1.00...\n",
      "2025-01-19 12:08:42 - INFO - Processed Non-GST-Invoice-No: -2853192-143795...\n",
      "2025-01-19 12:08:42 - INFO - Processed FOB-Value-in-INR: 4514.42...\n",
      "2025-01-19 12:08:43 - INFO - Processed Unit-Value: 54.9254.92...\n",
      "2025-01-19 12:08:43 - INFO - Processed Goods-Description: Goods Description OrganicAiryGauzeQuiltSetFullQue ...\n",
      "2025-01-19 12:08:43 - INFO - Processed AWB-No: 1158671846...\n",
      "2025-01-19 12:08:43 - INFO - Updated CSV with data from 44.jpg\n",
      "2025-01-19 12:08:43 - INFO - Completed processing image 39/50\n",
      "2025-01-19 12:08:43 - INFO - \n",
      "Processing image 40/50: 45.jpg\n"
     ]
    },
    {
     "name": "stdout",
     "output_type": "stream",
     "text": [
      "\n",
      "0: 480x640 1 AWB-No, 1 FOB-Value-in-INR, 1 Goods-Description, 1 Non-GST-Invoice-No, 1 Qty, 1 Total-Value, 1 Unit-Value, 45.0ms\n",
      "Speed: 2.0ms preprocess, 45.0ms inference, 1.0ms postprocess per image at shape (1, 3, 480, 640)\n"
     ]
    },
    {
     "name": "stderr",
     "output_type": "stream",
     "text": [
      "2025-01-19 12:08:43 - INFO - Processed Total-Value: 83.8683.86...\n",
      "2025-01-19 12:08:43 - INFO - Processed Qty: 1.00...\n",
      "2025-01-19 12:08:43 - INFO - Processed Non-GST-Invoice-No: -2853308-143804...\n",
      "2025-01-19 12:08:43 - INFO - Processed FOB-Value-in-INR: 6893.29...\n",
      "2025-01-19 12:08:44 - INFO - Processed Unit-Value: 83.8683.86...\n",
      "2025-01-19 12:08:44 - INFO - Processed Goods-Description: Goods Description EuropeanLinenSheetSetKingTerra c...\n",
      "2025-01-19 12:08:44 - INFO - Processed AWB-No: 1158674392...\n",
      "2025-01-19 12:08:44 - INFO - Updated CSV with data from 45.jpg\n",
      "2025-01-19 12:08:44 - INFO - Completed processing image 40/50\n",
      "2025-01-19 12:08:44 - INFO - \n",
      "Processing image 41/50: 46.jpg\n"
     ]
    },
    {
     "name": "stdout",
     "output_type": "stream",
     "text": [
      "\n",
      "0: 480x640 1 AWB-No, 1 FOB-Value-in-INR, 1 Goods-Description, 1 Non-GST-Invoice-No, 1 Qty, 1 Total-Value, 1 Unit-Value, 44.9ms\n",
      "Speed: 1.0ms preprocess, 44.9ms inference, 0.0ms postprocess per image at shape (1, 3, 480, 640)\n"
     ]
    },
    {
     "name": "stderr",
     "output_type": "stream",
     "text": [
      "2025-01-19 12:08:44 - INFO - Processed Total-Value: 48.7548.75...\n",
      "2025-01-19 12:08:44 - INFO - Processed Qty: 1.00...\n",
      "2025-01-19 12:08:44 - INFO - Processed Non-GST-Invoice-No: -2854311-143819...\n",
      "2025-01-19 12:08:44 - INFO - Processed Unit-Value: 48.7548.75...\n",
      "2025-01-19 12:08:44 - INFO - Processed FOB-Value-in-INR: 4007.25...\n",
      "2025-01-19 12:08:45 - INFO - Processed Goods-Description: Goods Description OrganicAiryGauzeDuvetCoverSet Fu...\n",
      "2025-01-19 12:08:45 - INFO - Processed AWB-No: 3369326542...\n",
      "2025-01-19 12:08:45 - INFO - Updated CSV with data from 46.jpg\n",
      "2025-01-19 12:08:45 - INFO - Completed processing image 41/50\n",
      "2025-01-19 12:08:45 - INFO - \n",
      "Processing image 42/50: 47.jpg\n"
     ]
    },
    {
     "name": "stdout",
     "output_type": "stream",
     "text": [
      "\n",
      "0: 480x640 1 AWB-No, 1 FOB-Value-in-INR, 1 Goods-Description, 1 Non-GST-Invoice-No, 1 Qty, 1 Total-Value, 1 Unit-Value, 47.0ms\n",
      "Speed: 2.0ms preprocess, 47.0ms inference, 1.0ms postprocess per image at shape (1, 3, 480, 640)\n"
     ]
    },
    {
     "name": "stderr",
     "output_type": "stream",
     "text": [
      "2025-01-19 12:08:45 - INFO - Processed Total-Value: 66.7266.72...\n",
      "2025-01-19 12:08:45 - INFO - Processed Qty: 1.00...\n",
      "2025-01-19 12:08:45 - INFO - Processed Non-GST-Invoice-No: -2854826-143834...\n",
      "2025-01-19 12:08:45 - INFO - Processed Unit-Value: 66.7266.72...\n",
      "2025-01-19 12:08:45 - INFO - Processed FOB-Value-in-INR: 5484.38...\n",
      "2025-01-19 12:08:46 - INFO - Processed Goods-Description: Goods Description OrganicAiryGauzeQuiltSetKingCal ...\n",
      "2025-01-19 12:08:46 - INFO - Processed AWB-No: 1258259450...\n",
      "2025-01-19 12:08:46 - INFO - Updated CSV with data from 47.jpg\n",
      "2025-01-19 12:08:46 - INFO - Completed processing image 42/50\n",
      "2025-01-19 12:08:46 - INFO - \n",
      "Processing image 43/50: 48.jpg\n"
     ]
    },
    {
     "name": "stdout",
     "output_type": "stream",
     "text": [
      "\n",
      "0: 480x640 1 AWB-No, 1 FOB-Value-in-INR, 1 Goods-Description, 1 Non-GST-Invoice-No, 1 Qty, 1 Total-Value, 1 Unit-Value, 48.0ms\n",
      "Speed: 2.0ms preprocess, 48.0ms inference, 0.0ms postprocess per image at shape (1, 3, 480, 640)\n"
     ]
    },
    {
     "name": "stderr",
     "output_type": "stream",
     "text": [
      "2025-01-19 12:08:46 - INFO - Processed Total-Value: 48.7548.75...\n",
      "2025-01-19 12:08:46 - INFO - Processed Qty: 1.00...\n",
      "2025-01-19 12:08:46 - INFO - Processed Unit-Value: 48.7548.75...\n",
      "2025-01-19 12:08:46 - INFO - Processed Non-GST-Invoice-No: -2854894-143838...\n",
      "2025-01-19 12:08:46 - INFO - Processed FOB-Value-in-INR: 4007.25...\n",
      "2025-01-19 12:08:47 - INFO - Processed Goods-Description: Goods Description OrganicAiryGauzeDuvetCoverSet Fu...\n",
      "2025-01-19 12:08:47 - INFO - Processed AWB-No: 1258262051...\n",
      "2025-01-19 12:08:47 - INFO - Updated CSV with data from 48.jpg\n",
      "2025-01-19 12:08:47 - INFO - Completed processing image 43/50\n",
      "2025-01-19 12:08:47 - INFO - \n",
      "Processing image 44/50: 49.jpg\n"
     ]
    },
    {
     "name": "stdout",
     "output_type": "stream",
     "text": [
      "\n",
      "0: 480x640 1 AWB-No, 1 FOB-Value-in-INR, 1 Goods-Description, 1 Non-GST-Invoice-No, 1 Qty, 1 Total-Value, 1 Unit-Value, 42.0ms\n",
      "Speed: 2.0ms preprocess, 42.0ms inference, 1.0ms postprocess per image at shape (1, 3, 480, 640)\n"
     ]
    },
    {
     "name": "stderr",
     "output_type": "stream",
     "text": [
      "2025-01-19 12:08:47 - INFO - Processed Total-Value: 54.9254.92...\n",
      "2025-01-19 12:08:47 - INFO - Processed Qty: 1.00...\n",
      "2025-01-19 12:08:47 - INFO - Processed Non-GST-Invoice-No: -2855444-143866...\n",
      "2025-01-19 12:08:47 - INFO - Processed FOB-Value-in-INR: 4514.42...\n",
      "2025-01-19 12:08:47 - INFO - Processed Unit-Value: 54.9254.92...\n",
      "2025-01-19 12:08:48 - INFO - Processed Goods-Description: Goods Description OrganicAiryGauzeQuiltSetFullQue ...\n",
      "2025-01-19 12:08:48 - INFO - Processed AWB-No: 1258273295...\n",
      "2025-01-19 12:08:48 - INFO - Updated CSV with data from 49.jpg\n",
      "2025-01-19 12:08:48 - INFO - Completed processing image 44/50\n",
      "2025-01-19 12:08:48 - INFO - \n",
      "Processing image 45/50: 5.jpg\n"
     ]
    },
    {
     "name": "stdout",
     "output_type": "stream",
     "text": [
      "\n",
      "0: 480x640 1 AWB-No, 1 FOB-Value-in-INR, 1 Goods-Description, 1 Non-GST-Invoice-No, 1 Qty, 1 Total-Value, 1 Unit-Value, 45.0ms\n",
      "Speed: 2.0ms preprocess, 45.0ms inference, 0.0ms postprocess per image at shape (1, 3, 480, 640)\n"
     ]
    },
    {
     "name": "stderr",
     "output_type": "stream",
     "text": [
      "2025-01-19 12:08:48 - INFO - Processed Total-Value: 113.94113.94...\n",
      "2025-01-19 12:08:48 - INFO - Processed Non-GST-Invoice-No: -2767554-137423...\n",
      "2025-01-19 12:08:48 - INFO - Processed Qty: 2.00...\n",
      "2025-01-19 12:08:48 - INFO - Processed FOB-Value-in-INR: 9365.87...\n",
      "2025-01-19 12:08:48 - INFO - Processed Unit-Value: 56.9756.97...\n",
      "2025-01-19 12:08:49 - INFO - Processed Goods-Description: Goods Description EuropeanLinenWaffleDuvetCover Tw...\n",
      "2025-01-19 12:08:49 - INFO - Processed AWB-No: 2927649314...\n",
      "2025-01-19 12:08:49 - INFO - Updated CSV with data from 5.jpg\n",
      "2025-01-19 12:08:49 - INFO - Completed processing image 45/50\n",
      "2025-01-19 12:08:49 - INFO - \n",
      "Processing image 46/50: 50.jpg\n"
     ]
    },
    {
     "name": "stdout",
     "output_type": "stream",
     "text": [
      "\n",
      "0: 480x640 1 AWB-No, 1 FOB-Value-in-INR, 1 Goods-Description, 1 Non-GST-Invoice-No, 1 Qty, 1 Total-Value, 1 Unit-Value, 44.1ms\n",
      "Speed: 2.0ms preprocess, 44.1ms inference, 1.0ms postprocess per image at shape (1, 3, 480, 640)\n"
     ]
    },
    {
     "name": "stderr",
     "output_type": "stream",
     "text": [
      "2025-01-19 12:08:49 - INFO - Processed Total-Value: 76.5976.59...\n",
      "2025-01-19 12:08:49 - INFO - Processed Unit-Value: 76.5976.59...\n",
      "2025-01-19 12:08:49 - INFO - Processed Qty: 1.00...\n",
      "2025-01-19 12:08:49 - INFO - Processed Non-GST-Invoice-No: -2857140-143894...\n",
      "2025-01-19 12:08:49 - INFO - Processed FOB-Value-in-INR: 6295.7...\n",
      "2025-01-19 12:08:49 - INFO - Processed Goods-Description: Goods Description OrganicAiryGauzeBoxQuiltSetKin g...\n",
      "2025-01-19 12:08:50 - INFO - Processed AWB-No: 1258285033...\n",
      "2025-01-19 12:08:50 - INFO - Updated CSV with data from 50.jpg\n",
      "2025-01-19 12:08:50 - INFO - Completed processing image 46/50\n",
      "2025-01-19 12:08:50 - INFO - \n",
      "Processing image 47/50: 6.jpg\n"
     ]
    },
    {
     "name": "stdout",
     "output_type": "stream",
     "text": [
      "\n",
      "0: 480x640 1 AWB-No, 1 FOB-Value-in-INR, 1 Goods-Description, 1 Non-GST-Invoice-No, 1 Qty, 1 Total-Value, 1 Unit-Value, 44.0ms\n",
      "Speed: 2.0ms preprocess, 44.0ms inference, 1.0ms postprocess per image at shape (1, 3, 480, 640)\n"
     ]
    },
    {
     "name": "stderr",
     "output_type": "stream",
     "text": [
      "2025-01-19 12:08:50 - INFO - Processed Total-Value: 16.8416.84...\n",
      "2025-01-19 12:08:50 - INFO - Processed Qty: 1.00...\n",
      "2025-01-19 12:08:50 - INFO - Processed Non-GST-Invoice-No: -2768048-137371...\n",
      "2025-01-19 12:08:50 - INFO - Processed Unit-Value: 16.8416.84...\n",
      "2025-01-19 12:08:50 - INFO - Processed FOB-Value-in-INR: 1384.25...\n",
      "2025-01-19 12:08:50 - INFO - Processed Goods-Description: Goods Description EuropeanLinenWaffleShamSetkin gS...\n",
      "2025-01-19 12:08:51 - INFO - Processed AWB-No: 2927613345...\n",
      "2025-01-19 12:08:51 - INFO - Updated CSV with data from 6.jpg\n",
      "2025-01-19 12:08:51 - INFO - Completed processing image 47/50\n",
      "2025-01-19 12:08:51 - INFO - \n",
      "Processing image 48/50: 7.jpg\n"
     ]
    },
    {
     "name": "stdout",
     "output_type": "stream",
     "text": [
      "\n",
      "0: 480x640 1 AWB-No, 1 FOB-Value-in-INR, 1 Goods-Description, 1 Non-GST-Invoice-No, 1 Qty, 1 Total-Value, 1 Unit-Value, 47.0ms\n",
      "Speed: 1.0ms preprocess, 47.0ms inference, 1.0ms postprocess per image at shape (1, 3, 480, 640)\n"
     ]
    },
    {
     "name": "stderr",
     "output_type": "stream",
     "text": [
      "2025-01-19 12:08:51 - INFO - Processed Total-Value: 88.6088.60...\n",
      "2025-01-19 12:08:51 - INFO - Processed Qty: 1.00...\n",
      "2025-01-19 12:08:51 - INFO - Processed Non-GST-Invoice-No: -2768068-137367...\n",
      "2025-01-19 12:08:51 - INFO - Processed Unit-Value: 88.6088.60...\n",
      "2025-01-19 12:08:51 - INFO - Processed FOB-Value-in-INR: 7282.92...\n",
      "2025-01-19 12:08:51 - INFO - Processed Goods-Description: Goods Description EuropeanLinenWaffleDuvetCover Ki...\n",
      "2025-01-19 12:08:52 - INFO - Processed AWB-No: 1796820421...\n",
      "2025-01-19 12:08:52 - INFO - Updated CSV with data from 7.jpg\n",
      "2025-01-19 12:08:52 - INFO - Completed processing image 48/50\n",
      "2025-01-19 12:08:52 - INFO - \n",
      "Processing image 49/50: 8.jpg\n"
     ]
    },
    {
     "name": "stdout",
     "output_type": "stream",
     "text": [
      "\n",
      "0: 480x640 1 AWB-No, 1 FOB-Value-in-INR, 1 Goods-Description, 1 Non-GST-Invoice-No, 1 Qty, 1 Total-Value, 1 Unit-Value, 44.0ms\n",
      "Speed: 3.0ms preprocess, 44.0ms inference, 1.0ms postprocess per image at shape (1, 3, 480, 640)\n"
     ]
    },
    {
     "name": "stderr",
     "output_type": "stream",
     "text": [
      "2025-01-19 12:08:52 - INFO - Processed Total-Value: 83.1683.16...\n",
      "2025-01-19 12:08:52 - INFO - Processed Qty: 1.00...\n",
      "2025-01-19 12:08:52 - INFO - Processed Non-GST-Invoice-No: -2774519-138157...\n",
      "2025-01-19 12:08:52 - INFO - Processed FOB-Value-in-INR: 6835.75...\n",
      "2025-01-19 12:08:52 - INFO - Processed Unit-Value: 83.1683.16...\n",
      "2025-01-19 12:08:52 - INFO - Processed Goods-Description: Goods Description EuropeanLinenWaffleDuvetCover Se...\n",
      "2025-01-19 12:08:52 - INFO - Processed AWB-No: 1202410650...\n",
      "2025-01-19 12:08:52 - INFO - Updated CSV with data from 8.jpg\n",
      "2025-01-19 12:08:52 - INFO - Completed processing image 49/50\n",
      "2025-01-19 12:08:52 - INFO - \n",
      "Processing image 50/50: 9.jpg\n"
     ]
    },
    {
     "name": "stdout",
     "output_type": "stream",
     "text": [
      "\n",
      "0: 480x640 1 AWB-No, 1 FOB-Value-in-INR, 1 Goods-Description, 1 Non-GST-Invoice-No, 1 Qty, 1 Total-Value, 1 Unit-Value, 45.0ms\n",
      "Speed: 2.0ms preprocess, 45.0ms inference, 1.0ms postprocess per image at shape (1, 3, 480, 640)\n"
     ]
    },
    {
     "name": "stderr",
     "output_type": "stream",
     "text": [
      "2025-01-19 12:08:53 - INFO - Processed Total-Value: 69.9169.91...\n",
      "2025-01-19 12:08:53 - INFO - Processed Qty: 1.00...\n",
      "2025-01-19 12:08:53 - INFO - Processed FOB-Value-in-INR: 5746.6...\n",
      "2025-01-19 12:08:53 - INFO - Processed Non-GST-Invoice-No: -2774604-138147...\n",
      "2025-01-19 12:08:53 - INFO - Processed Unit-Value: 69.9169.91...\n",
      "2025-01-19 12:08:53 - INFO - Processed Goods-Description: Goods Description EuropeanLinenWaffleDuvetCover Fu...\n",
      "2025-01-19 12:08:53 - INFO - Processed AWB-No: 1202401605...\n",
      "2025-01-19 12:08:53 - INFO - Updated CSV with data from 9.jpg\n",
      "2025-01-19 12:08:53 - INFO - Completed processing image 50/50\n",
      "2025-01-19 12:08:53 - INFO - \n",
      "Processing completed successfully!\n",
      "2025-01-19 12:08:53 - INFO - Total images processed: 50\n",
      "2025-01-19 12:08:53 - INFO - Results saved to: D:\\Github_Projects\\VTM_Final_Src_Code_Git_Connected\\Final_Output.csv\n"
     ]
    }
   ],
   "source": [
    "if __name__ == \"__main__\":\n",
    "    main()"
   ]
  }
 ],
 "metadata": {
  "kernelspec": {
   "display_name": "Python 3",
   "language": "python",
   "name": "python3"
  },
  "language_info": {
   "codemirror_mode": {
    "name": "ipython",
    "version": 3
   },
   "file_extension": ".py",
   "mimetype": "text/x-python",
   "name": "python",
   "nbconvert_exporter": "python",
   "pygments_lexer": "ipython3",
   "version": "3.10.11"
  }
 },
 "nbformat": 4,
 "nbformat_minor": 2
}
